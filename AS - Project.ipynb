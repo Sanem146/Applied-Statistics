{
 "cells": [
  {
   "cell_type": "code",
   "execution_count": 208,
   "metadata": {},
   "outputs": [],
   "source": [
    "import numpy as np\n",
    "import scipy.stats as stats\n",
    "import matplotlib.pyplot as plt"
   ]
  },
  {
   "cell_type": "markdown",
   "metadata": {},
   "source": [
    "# Part I"
   ]
  },
  {
   "cell_type": "raw",
   "metadata": {},
   "source": [
    "1. Question: Please refer the table below to answer below questions:\n",
    " Planned to purchase P A     Actually placed and order for P A - Yes      Actually placed and order for P A - No     Total\n",
    " Yes                                        400                                100                                    500\n",
    " No                                         200                                1300                                   1500\n",
    " Total                                      600                                1400                                   2000"
   ]
  },
  {
   "cell_type": "code",
   "execution_count": 23,
   "metadata": {},
   "outputs": [
    {
     "data": {
      "text/plain": [
       "0.2"
      ]
     },
     "execution_count": 23,
     "metadata": {},
     "output_type": "execute_result"
    }
   ],
   "source": [
    "# 1. Refer to the above table and find the joint probability of the people who planned to purchase and actually placed an order.\n",
    "\n",
    "400/2000"
   ]
  },
  {
   "cell_type": "code",
   "execution_count": 24,
   "metadata": {},
   "outputs": [
    {
     "data": {
      "text/plain": [
       "0.8"
      ]
     },
     "execution_count": 24,
     "metadata": {},
     "output_type": "execute_result"
    }
   ],
   "source": [
    "# 2. Refer to the above table and find the joint probability of the people who planned to purchase and actually placed an order, given that people planned to purchase.\n",
    "\n",
    "400/500"
   ]
  },
  {
   "cell_type": "raw",
   "metadata": {},
   "source": [
    "2. Question: An electrical manufacturing company conducts quality checks at specified periods on the products it manufactures. Historically, the failure rate for the manufactured item is 5%. Suppose a random sample of 10 manufactured items is selected. Answer the following questions.\n",
    "    A. Probability that none of the items are defective?      \n",
    "    B. Probability that exactly one of the items is defective?\n",
    "    C. Probability that two or fewer of the items are defective?\n",
    "    D. Probability that three or more of the items are defective ?\n",
    "    \n",
    "This is a binomial problem. Each selection is independent of one another, and a bulb is either defective or it is not defective.\n",
    "p = 5/100 = 0.05 is the probability of being defective\n",
    "n = 10 is the sample size"
   ]
  },
  {
   "cell_type": "code",
   "execution_count": 25,
   "metadata": {},
   "outputs": [],
   "source": [
    "n=10"
   ]
  },
  {
   "cell_type": "code",
   "execution_count": 26,
   "metadata": {},
   "outputs": [],
   "source": [
    "p=.05"
   ]
  },
  {
   "cell_type": "code",
   "execution_count": 27,
   "metadata": {},
   "outputs": [
    {
     "data": {
      "text/plain": [
       "array([ 0,  1,  2,  3,  4,  5,  6,  7,  8,  9, 10])"
      ]
     },
     "execution_count": 27,
     "metadata": {},
     "output_type": "execute_result"
    }
   ],
   "source": [
    "k=np.arange(0,11)\n",
    "k"
   ]
  },
  {
   "cell_type": "code",
   "execution_count": 28,
   "metadata": {},
   "outputs": [],
   "source": [
    "binomial = stats.binom.pmf(k,n,p)"
   ]
  },
  {
   "cell_type": "code",
   "execution_count": 29,
   "metadata": {},
   "outputs": [
    {
     "data": {
      "text/plain": [
       "array([5.98736939e-01, 3.15124705e-01, 7.46347985e-02, 1.04750594e-02,\n",
       "       9.64808106e-04, 6.09352488e-05, 2.67259863e-06, 8.03789063e-08,\n",
       "       1.58642578e-09, 1.85546875e-11, 9.76562500e-14])"
      ]
     },
     "execution_count": 29,
     "metadata": {},
     "output_type": "execute_result"
    }
   ],
   "source": [
    "binomial"
   ]
  },
  {
   "cell_type": "code",
   "execution_count": 30,
   "metadata": {},
   "outputs": [
    {
     "data": {
      "text/plain": [
       "0.5987369392383789"
      ]
     },
     "execution_count": 30,
     "metadata": {},
     "output_type": "execute_result"
    }
   ],
   "source": [
    "# A. Probability that none of the items are defective?\n",
    "# P(k=0)\n",
    "binomial = stats.binom.pmf(0,n,p)\n",
    "binomial"
   ]
  },
  {
   "cell_type": "code",
   "execution_count": 31,
   "metadata": {},
   "outputs": [
    {
     "data": {
      "text/plain": [
       "0.31512470486230504"
      ]
     },
     "execution_count": 31,
     "metadata": {},
     "output_type": "execute_result"
    }
   ],
   "source": [
    "# B. Probability that exactly one of the items is defective?\n",
    "# P(k=1)\n",
    "binomial = stats.binom.pmf(1,n,p)\n",
    "binomial"
   ]
  },
  {
   "cell_type": "code",
   "execution_count": 32,
   "metadata": {},
   "outputs": [
    {
     "data": {
      "text/plain": [
       "0.07463479852001954"
      ]
     },
     "execution_count": 32,
     "metadata": {},
     "output_type": "execute_result"
    }
   ],
   "source": [
    "binomial = stats.binom.pmf(2,n,p)\n",
    "binomial"
   ]
  },
  {
   "cell_type": "code",
   "execution_count": 33,
   "metadata": {},
   "outputs": [
    {
     "data": {
      "text/plain": [
       "0.9884964426207035"
      ]
     },
     "execution_count": 33,
     "metadata": {},
     "output_type": "execute_result"
    }
   ],
   "source": [
    "# C. Probability that two or fewer of the items are defective?\n",
    "# P(k<=2)\n",
    "binomial = stats.binom.pmf(0,n,p) + stats.binom.pmf(1,n,p) + stats.binom.pmf(2,n,p)\n",
    "binomial"
   ]
  },
  {
   "cell_type": "code",
   "execution_count": 34,
   "metadata": {},
   "outputs": [
    {
     "data": {
      "text/plain": [
       "0.9884964426207035"
      ]
     },
     "execution_count": 34,
     "metadata": {},
     "output_type": "execute_result"
    }
   ],
   "source": [
    "# C. Probability that two or fewer of the items are defective?\n",
    "# P(k<=2)\n",
    "x=np.arange(0,3)\n",
    "x\n",
    "binomial1 = stats.binom.pmf(x,n,p)\n",
    "binomial1\n",
    "\n",
    "sum(binomial1)"
   ]
  },
  {
   "cell_type": "code",
   "execution_count": 35,
   "metadata": {},
   "outputs": [
    {
     "data": {
      "text/plain": [
       "0.011503557379296881"
      ]
     },
     "execution_count": 35,
     "metadata": {},
     "output_type": "execute_result"
    }
   ],
   "source": [
    "# D. Probability that three or more of the items are defective ?\n",
    "# P(k>=3)\n",
    "binomial = stats.binom.pmf(3,n,p) + stats.binom.pmf(4,n,p) + stats.binom.pmf(5,n,p) + stats.binom.pmf(6,n,p) + stats.binom.pmf(7,n,p) + stats.binom.pmf(8,n,p) + stats.binom.pmf(9,n,p) + stats.binom.pmf(10,n,p)\n",
    "binomial"
   ]
  },
  {
   "cell_type": "code",
   "execution_count": 36,
   "metadata": {},
   "outputs": [
    {
     "data": {
      "text/plain": [
       "0.011503557379296881"
      ]
     },
     "execution_count": 36,
     "metadata": {},
     "output_type": "execute_result"
    }
   ],
   "source": [
    "# D. Probability that three or more of the items are defective ?\n",
    "# P(k>=3)\n",
    "y=np.arange(3,11)\n",
    "y\n",
    "binomial2 = stats.binom.pmf(y,n,p)\n",
    "binomial2\n",
    "\n",
    "sum(binomial2)"
   ]
  },
  {
   "cell_type": "raw",
   "metadata": {},
   "source": [
    "3. Question: A car salesman sells on an average 3 cars per week.\n",
    "    A. Probability that in a given week he will sell some cars.\n",
    "    B. Probability that in a given week he will sell 2 or more but less than 5 cars.\n",
    "    C. Plot the poisson distribution function for cumulative probability of cars sold per-week vs number of cars sold per week."
   ]
  },
  {
   "cell_type": "code",
   "execution_count": 37,
   "metadata": {},
   "outputs": [],
   "source": [
    "#average rate, denoted with lambda in the formula for poisson distribution \n",
    "\n",
    "rate = 3"
   ]
  },
  {
   "cell_type": "code",
   "execution_count": 44,
   "metadata": {},
   "outputs": [],
   "source": [
    "#a numpy array of different no. of successes ranging from 0 to 19 to construct a probability distribution\n",
    "\n",
    "n=np.arange(0,16)"
   ]
  },
  {
   "cell_type": "code",
   "execution_count": 45,
   "metadata": {},
   "outputs": [],
   "source": [
    "#calculating the distribution and storing the distribution of probablitites in an array\n",
    "poisson = stats.poisson.pmf(n,rate)"
   ]
  },
  {
   "cell_type": "code",
   "execution_count": 46,
   "metadata": {},
   "outputs": [
    {
     "data": {
      "text/plain": [
       "array([4.97870684e-02, 1.49361205e-01, 2.24041808e-01, 2.24041808e-01,\n",
       "       1.68031356e-01, 1.00818813e-01, 5.04094067e-02, 2.16040315e-02,\n",
       "       8.10151179e-03, 2.70050393e-03, 8.10151179e-04, 2.20950322e-04,\n",
       "       5.52375804e-05, 1.27471339e-05, 2.73152870e-06, 5.46305740e-07])"
      ]
     },
     "execution_count": 46,
     "metadata": {},
     "output_type": "execute_result"
    }
   ],
   "source": [
    "#printing the probability distribution for different values of x\n",
    "poisson"
   ]
  },
  {
   "cell_type": "code",
   "execution_count": 47,
   "metadata": {},
   "outputs": [
    {
     "data": {
      "text/plain": [
       "0.950212931632136"
      ]
     },
     "execution_count": 47,
     "metadata": {},
     "output_type": "execute_result"
    }
   ],
   "source": [
    "# A. Probability that in a given week he will sell some cars.\n",
    "# \"Some cars\" means \"1 or more cars\". We can work this out by finding 1 minus the \"zero cars\" probability:\n",
    "# P(X > 0) = 1 − P(x0)\n",
    "# the probability of \"1 or more cars\" is given by P(X≥0)\n",
    "#n = 0\n",
    "#poisson = stats.poisson.pmf(n,rate)\n",
    "#poisson\n",
    "#1- poisson\n",
    "\n",
    "1- poisson[0]\n"
   ]
  },
  {
   "cell_type": "code",
   "execution_count": 48,
   "metadata": {},
   "outputs": [
    {
     "data": {
      "text/plain": [
       "0.6161149710523164"
      ]
     },
     "execution_count": 48,
     "metadata": {},
     "output_type": "execute_result"
    }
   ],
   "source": [
    "# B. Probability that in a given week he will sell 2 or more but less than 5 cars.\n",
    "#The probability of selling 2 or more, but less than 5 cars is:\n",
    "# P(2≤X<5) = P(x2) + P(x3) + P(x4)\n",
    "\n",
    "poisson[2]+poisson[3]+poisson[4]"
   ]
  },
  {
   "cell_type": "code",
   "execution_count": 49,
   "metadata": {},
   "outputs": [
    {
     "data": {
      "image/png": "[encoded data removed]",
      "text/plain": [
       "<Figure size 432x288 with 1 Axes>"
      ]
     },
     "metadata": {
      "needs_background": "light"
     },
     "output_type": "display_data"
    }
   ],
   "source": [
    "# C. Plot the poisson distribution function for cumulative probability of cars sold per-week vs number of cars sold per week.\n",
    "#visualising the plot with pyplot\n",
    "\n",
    "poisson = stats.poisson.pmf(n,rate)\n",
    "plt.plot(n,poisson,'o-')\n",
    "plt.title('Poisson: $\\lambda$ = %i ' % rate)\n",
    "plt.xlabel('Number of cars sold per week')\n",
    "plt.ylabel('Cumulative probability of cars sold per-week')\n",
    "plt.show()"
   ]
  },
  {
   "cell_type": "raw",
   "metadata": {},
   "source": [
    "4. Question: Accuracy in understanding orders for a speech based bot at a restaurant is important for the Company X which has designed, marketed and launched the product for a contactless delivery due to the COVID-19 pandemic. Recognition accuracy that measures the percentage of orders that are taken correctly is 86.8%. Suppose that you place order with the bot and two friends of yours independently place orders with the same bot. Answer the following questions.\n",
    "    \n",
    "    A. What is the probability that all three orders will be recognised correctly?\n",
    "    B. What is the probability that none of the three orders will be recognised correctly?\n",
    "    C. What is the probability that at least two of the three orders will be recognised correctly?"
   ]
  },
  {
   "cell_type": "code",
   "execution_count": 167,
   "metadata": {},
   "outputs": [],
   "source": [
    "# Data\n",
    "# Sample size(n) = 3\n",
    "probability of an event of interest(p)= 0.868\n",
    "Mean = 3*0.868"
   ]
  },
  {
   "cell_type": "code",
   "execution_count": 168,
   "metadata": {},
   "outputs": [],
   "source": [
    "n=3"
   ]
  },
  {
   "cell_type": "code",
   "execution_count": 243,
   "metadata": {},
   "outputs": [],
   "source": [
    "p=0.868"
   ]
  },
  {
   "cell_type": "code",
   "execution_count": 249,
   "metadata": {},
   "outputs": [
    {
     "data": {
      "text/plain": [
       "array([0, 1, 2, 3])"
      ]
     },
     "execution_count": 249,
     "metadata": {},
     "output_type": "execute_result"
    }
   ],
   "source": [
    "k=np.arange(0,4)\n",
    "k"
   ]
  },
  {
   "cell_type": "code",
   "execution_count": 250,
   "metadata": {},
   "outputs": [],
   "source": [
    "binomial=stats.binom.pmf(k,n,p)"
   ]
  },
  {
   "cell_type": "code",
   "execution_count": 251,
   "metadata": {},
   "outputs": [
    {
     "data": {
      "text/plain": [
       "array([0.00229997, 0.0453721 , 0.2983559 , 0.65397203])"
      ]
     },
     "execution_count": 251,
     "metadata": {},
     "output_type": "execute_result"
    }
   ],
   "source": [
    "binomial"
   ]
  },
  {
   "cell_type": "code",
   "execution_count": 252,
   "metadata": {},
   "outputs": [
    {
     "data": {
      "text/plain": [
       "0.653972032"
      ]
     },
     "execution_count": 252,
     "metadata": {},
     "output_type": "execute_result"
    }
   ],
   "source": [
    "# A. What is the probability that all three orders will be recognised correctly?\n",
    "# Prob(3 correct)=p^3\n",
    "\n",
    "binomial[3]"
   ]
  },
  {
   "cell_type": "code",
   "execution_count": 266,
   "metadata": {},
   "outputs": [],
   "source": [
    "# B. What is the probability that none of the three orders will be recognised correctly?\n",
    "# P(3 incorrec)= (1-p)^3\n",
    "\n",
    "binomial3=stats.binom.pmf(k,n,1-p)"
   ]
  },
  {
   "cell_type": "code",
   "execution_count": 267,
   "metadata": {},
   "outputs": [
    {
     "data": {
      "text/plain": [
       "array([0.65397203, 0.2983559 , 0.0453721 , 0.00229997])"
      ]
     },
     "execution_count": 267,
     "metadata": {},
     "output_type": "execute_result"
    }
   ],
   "source": [
    "binomial3"
   ]
  },
  {
   "cell_type": "code",
   "execution_count": 268,
   "metadata": {},
   "outputs": [
    {
     "data": {
      "text/plain": [
       "0.002299968"
      ]
     },
     "execution_count": 268,
     "metadata": {},
     "output_type": "execute_result"
    }
   ],
   "source": [
    "binomial3[3]"
   ]
  },
  {
   "cell_type": "code",
   "execution_count": 265,
   "metadata": {},
   "outputs": [
    {
     "data": {
      "text/plain": [
       "0.952327936"
      ]
     },
     "execution_count": 265,
     "metadata": {},
     "output_type": "execute_result"
    }
   ],
   "source": [
    "# C. What is the probability that at least two of the three orders will be recognised correctly?\n",
    "# P(2 or 3 correct)=3C2(p)^2 * (1-p) + 3C3(p^3)\n",
    "# P(X=x)=nCx p^x q^n-x = 3*p^2(1-p) + p^3\n",
    "\n",
    "(3 * 0.868 * 0.868 * 0.132) + (0.868 * 0.868 * 0.868)\n"
   ]
  },
  {
   "cell_type": "raw",
   "metadata": {},
   "source": [
    "5. Question: A group of 300 professionals sat for a competitive exam. The results show the information of marks obtained by them have a mean of 60 and a standard deviation of 12. The pattern of marks follows a normal distribution. Answer the following questions.\n",
    "    \n",
    "    A. What is the percentage of students who score more than 80.\n",
    "    B. What is the percentage of students who score less than 50.\n",
    "    C. What should be the distinction mark if the highest 10% of students are to be awarded distinction?"
   ]
  },
  {
   "cell_type": "code",
   "execution_count": 270,
   "metadata": {},
   "outputs": [],
   "source": [
    "#for problem a - Calculate the z value\n",
    "\n",
    "# z=(x-mean)/standard deviation\n",
    "mean = 60\n",
    "standard_deviation = 12"
   ]
  },
  {
   "cell_type": "code",
   "execution_count": 206,
   "metadata": {},
   "outputs": [
    {
     "data": {
      "text/plain": [
       "1.6666666666666667"
      ]
     },
     "execution_count": 206,
     "metadata": {},
     "output_type": "execute_result"
    }
   ],
   "source": [
    "# A. What is the percentage of students who score more than 80.\n",
    "z= (80-60)/12\n",
    "z"
   ]
  },
  {
   "cell_type": "code",
   "execution_count": 209,
   "metadata": {},
   "outputs": [
    {
     "data": {
      "text/plain": [
       "0.047790352272814696"
      ]
     },
     "execution_count": 209,
     "metadata": {},
     "output_type": "execute_result"
    }
   ],
   "source": [
    "# The probability (area) to the right is calculated as (1 - probability to the left)\n",
    "\n",
    "z=1-stats.norm.cdf(80,loc=60,scale=12)\n",
    "z\n",
    "\n",
    "#Proportions of students who score more than 1.67 \n",
    "#= 0.5 - proportion scoring between 0 and 1.67 \n",
    "#= 0.5 - 0.4525 = 0.0475 That is 4.75% of students have scored more than 80"
   ]
  },
  {
   "cell_type": "markdown",
   "metadata": {},
   "source": [
    "#### That is 4.75% of students have scored more than 80"
   ]
  },
  {
   "cell_type": "markdown",
   "metadata": {},
   "source": [
    "#### B. What is the percentage of students who score less than 50?"
   ]
  },
  {
   "cell_type": "code",
   "execution_count": null,
   "metadata": {},
   "outputs": [],
   "source": [
    "# similarly (50 - 60)/12 = -0.8333. \n",
    "# Applying the property of symmetry, the area upto -0.8333 is same as area more than 0.8333 in the positive side. \n",
    "# As before, it is = 0.5 - area between 0 and 0.8333 = 0.5 - 0.2967 = 0.2033. That is 20.33% of students scored below 50"
   ]
  },
  {
   "cell_type": "code",
   "execution_count": 212,
   "metadata": {},
   "outputs": [
    {
     "data": {
      "text/plain": [
       "0.20232838096364308"
      ]
     },
     "execution_count": 212,
     "metadata": {},
     "output_type": "execute_result"
    }
   ],
   "source": [
    "# B. What is the percentage of students who score less than 50.\n",
    "\n",
    "#Use the calculated z value to calculate the probability or the area under curve to the left of this z value\n",
    "#stats.norm.cdf(z)\n",
    "\n",
    "z1=stats.norm.cdf(50,loc=60,scale=12)\n",
    "z1"
   ]
  },
  {
   "cell_type": "markdown",
   "metadata": {},
   "source": [
    "#### That is 20.23% of students scored below 50"
   ]
  },
  {
   "cell_type": "markdown",
   "metadata": {},
   "source": [
    "#### C. What should be the distinction mark if the highest 10% of students are to be awarded distinction?\n",
    "\n",
    "Z = (x-60)/12. Here look at the normal tabel in inverse manner. \n",
    "That is the value of Z, the area between 0 and z = 0.40. \n",
    "this is to be seen from teh table. \n",
    "The Z value that will make the area = 0.40 is = 1.28. \n",
    "But z= (x - 60)/12. \n",
    "Hence (x-60)/12 = 1.28 \n"
   ]
  },
  {
   "cell_type": "code",
   "execution_count": 217,
   "metadata": {},
   "outputs": [
    {
     "data": {
      "text/plain": [
       "75.36"
      ]
     },
     "execution_count": 217,
     "metadata": {},
     "output_type": "execute_result"
    }
   ],
   "source": [
    "x=(1.28*12)+60\n",
    "x"
   ]
  },
  {
   "cell_type": "markdown",
   "metadata": {},
   "source": [
    "#### Simplifying, x= 75.36 This is the distinction mark that will be scored by 10% of the students."
   ]
  },
  {
   "cell_type": "raw",
   "metadata": {},
   "source": [
    "6. Question: Explain 1 real life industry scenario [other than the ones mentioned above] where you can use the concepts learnt in this module of Applied statistics to get a data driven business solution.\n",
    "\n",
    "Predicting Customer Churn in an telecom industry:\n",
    "\n",
    "You have been called in to help understand the problem and to devise a solution. Attracting new customers is much more expensive than retaining existing ones, so a good deal of marketing budget is allocated to prevent churn. Marketing has already designed a special retention offer. Your task is to devise a precise, step-by-step plan for how the data science team should use MegaTelCo’s vast data resources to decide which customers should be offered the special retention deal prior to the expiration of their contracts.\n"
   ]
  },
  {
   "cell_type": "markdown",
   "metadata": {},
   "source": [
    "# Part II:"
   ]
  },
  {
   "cell_type": "raw",
   "metadata": {},
   "source": [
    "DOMAIN: Sports\n",
    "• CONTEXT: Company X manages the men's top professional basketball division of the American league system. The dataset contains information on all the teams that have participated in all the past tournaments. It has data about how many baskets each team scored, conceded, how many times they came within the first 2 positions, how many tournaments they have qualified, their best position in the past, etc.\n",
    "\n",
    "PROJECT OBJECTIVE: Company’s management wants to invest on proposal on managing some of the best teams in the league. The analytics department has been assigned with a task of creating a report on the performance shown by the teams. Some of the older teams are already in contract with competitors. Hence Company X wants to understand which teams they can approach which will be a deal win for them.\n",
    "\n",
    "DATA DESCRIPTION: Basketball.csv - The data set contains information on all the teams so far participated in\n",
    "all the past tournaments.\n",
    "\n",
    "• ATTRIBUTE INFORMATION:\n",
    "1. Team: Team’s name\n",
    "2. Tournament: Number of played tournaments.\n",
    "3. Score: Team’s score so far.\n",
    "4. PlayedGames: Games played by the team so far.\n",
    "5. WonGames: Games won by the team so far.\n",
    "6. DrawnGames: Games drawn by the team so far.\n",
    "7. LostGames: Games lost by the team so far.\n",
    "8. BasketScored: Basket scored by the team so far.\n",
    "9. BasketGiven: Basket scored against the team so far.\n",
    "10. TournamentChampion: How many times the team was a champion of the tournaments so far.\n",
    "11. Runner-up: How many times the team was a runners-up of the tournaments so far.\n",
    "12. TeamLaunch: Year the team was launched on professional basketball.\n",
    "13. HighestPositionHeld: Highest position held by the team amongst all the tournaments played.\n",
    "\n",
    "• PROJECT OBJECTIVE: Company’s management wants to invest on proposal on managing some of the best teams in the league. The analytics department has been assigned with a task of creating a report on the performance shown by the teams. Some of the older teams are already in contract with competitors. Hence Company X wants to understand which teams they can approach which will be a deal win for them."
   ]
  },
  {
   "cell_type": "raw",
   "metadata": {},
   "source": [
    "Steps and tasks:\n",
    "1. Read the data set, clean the data and prepare a final dataset to be used for analysis."
   ]
  },
  {
   "cell_type": "code",
   "execution_count": 2,
   "metadata": {},
   "outputs": [],
   "source": [
    "%matplotlib inline\n",
    "#Import necessary libraries\n",
    "\n",
    "import numpy as np\n",
    "import pandas as pd\n",
    "import matplotlib.pyplot as plt\n",
    "import seaborn as sns"
   ]
  },
  {
   "cell_type": "code",
   "execution_count": 3,
   "metadata": {},
   "outputs": [],
   "source": [
    "# Load the Sports Dataset\n",
    "\n",
    "df = pd.read_csv('Basketball.csv')"
   ]
  },
  {
   "cell_type": "code",
   "execution_count": 4,
   "metadata": {},
   "outputs": [
    {
     "data": {
      "text/html": [
       "<div>\n",
       "<style scoped>\n",
       "    .dataframe tbody tr th:only-of-type {\n",
       "        vertical-align: middle;\n",
       "    }\n",
       "\n",
       "    .dataframe tbody tr th {\n",
       "        vertical-align: top;\n",
       "    }\n",
       "\n",
       "    .dataframe thead th {\n",
       "        text-align: right;\n",
       "    }\n",
       "</style>\n",
       "<table border=\"1\" class=\"dataframe\">\n",
       "  <thead>\n",
       "    <tr style=\"text-align: right;\">\n",
       "      <th></th>\n",
       "      <th>Team</th>\n",
       "      <th>Tournament</th>\n",
       "      <th>Score</th>\n",
       "      <th>PlayedGames</th>\n",
       "      <th>WonGames</th>\n",
       "      <th>DrawnGames</th>\n",
       "      <th>LostGames</th>\n",
       "      <th>BasketScored</th>\n",
       "      <th>BasketGiven</th>\n",
       "      <th>TournamentChampion</th>\n",
       "      <th>Runner-up</th>\n",
       "      <th>TeamLaunch</th>\n",
       "      <th>HighestPositionHeld</th>\n",
       "    </tr>\n",
       "  </thead>\n",
       "  <tbody>\n",
       "    <tr>\n",
       "      <th>0</th>\n",
       "      <td>Team 1</td>\n",
       "      <td>86</td>\n",
       "      <td>4385</td>\n",
       "      <td>2762</td>\n",
       "      <td>1647</td>\n",
       "      <td>552</td>\n",
       "      <td>563</td>\n",
       "      <td>5947</td>\n",
       "      <td>3140</td>\n",
       "      <td>33</td>\n",
       "      <td>23</td>\n",
       "      <td>1929</td>\n",
       "      <td>1</td>\n",
       "    </tr>\n",
       "    <tr>\n",
       "      <th>1</th>\n",
       "      <td>Team 2</td>\n",
       "      <td>86</td>\n",
       "      <td>4262</td>\n",
       "      <td>2762</td>\n",
       "      <td>1581</td>\n",
       "      <td>573</td>\n",
       "      <td>608</td>\n",
       "      <td>5900</td>\n",
       "      <td>3114</td>\n",
       "      <td>25</td>\n",
       "      <td>25</td>\n",
       "      <td>1929</td>\n",
       "      <td>1</td>\n",
       "    </tr>\n",
       "    <tr>\n",
       "      <th>2</th>\n",
       "      <td>Team 3</td>\n",
       "      <td>80</td>\n",
       "      <td>3442</td>\n",
       "      <td>2614</td>\n",
       "      <td>1241</td>\n",
       "      <td>598</td>\n",
       "      <td>775</td>\n",
       "      <td>4534</td>\n",
       "      <td>3309</td>\n",
       "      <td>10</td>\n",
       "      <td>8</td>\n",
       "      <td>1929</td>\n",
       "      <td>1</td>\n",
       "    </tr>\n",
       "    <tr>\n",
       "      <th>3</th>\n",
       "      <td>Team 4</td>\n",
       "      <td>82</td>\n",
       "      <td>3386</td>\n",
       "      <td>2664</td>\n",
       "      <td>1187</td>\n",
       "      <td>616</td>\n",
       "      <td>861</td>\n",
       "      <td>4398</td>\n",
       "      <td>3469</td>\n",
       "      <td>6</td>\n",
       "      <td>6</td>\n",
       "      <td>1931to32</td>\n",
       "      <td>1</td>\n",
       "    </tr>\n",
       "    <tr>\n",
       "      <th>4</th>\n",
       "      <td>Team 5</td>\n",
       "      <td>86</td>\n",
       "      <td>3368</td>\n",
       "      <td>2762</td>\n",
       "      <td>1209</td>\n",
       "      <td>633</td>\n",
       "      <td>920</td>\n",
       "      <td>4631</td>\n",
       "      <td>3700</td>\n",
       "      <td>8</td>\n",
       "      <td>7</td>\n",
       "      <td>1929</td>\n",
       "      <td>1</td>\n",
       "    </tr>\n",
       "  </tbody>\n",
       "</table>\n",
       "</div>"
      ],
      "text/plain": [
       "     Team  Tournament Score PlayedGames WonGames DrawnGames LostGames  \\\n",
       "0  Team 1          86  4385        2762     1647        552       563   \n",
       "1  Team 2          86  4262        2762     1581        573       608   \n",
       "2  Team 3          80  3442        2614     1241        598       775   \n",
       "3  Team 4          82  3386        2664     1187        616       861   \n",
       "4  Team 5          86  3368        2762     1209        633       920   \n",
       "\n",
       "  BasketScored BasketGiven TournamentChampion Runner-up TeamLaunch  \\\n",
       "0         5947        3140                 33        23       1929   \n",
       "1         5900        3114                 25        25       1929   \n",
       "2         4534        3309                 10         8       1929   \n",
       "3         4398        3469                  6         6   1931to32   \n",
       "4         4631        3700                  8         7       1929   \n",
       "\n",
       "   HighestPositionHeld  \n",
       "0                    1  \n",
       "1                    1  \n",
       "2                    1  \n",
       "3                    1  \n",
       "4                    1  "
      ]
     },
     "execution_count": 4,
     "metadata": {},
     "output_type": "execute_result"
    }
   ],
   "source": [
    "#View the first 5 rows of data\n",
    "df.head(5)"
   ]
  },
  {
   "cell_type": "code",
   "execution_count": 5,
   "metadata": {},
   "outputs": [
    {
     "data": {
      "text/html": [
       "<div>\n",
       "<style scoped>\n",
       "    .dataframe tbody tr th:only-of-type {\n",
       "        vertical-align: middle;\n",
       "    }\n",
       "\n",
       "    .dataframe tbody tr th {\n",
       "        vertical-align: top;\n",
       "    }\n",
       "\n",
       "    .dataframe thead th {\n",
       "        text-align: right;\n",
       "    }\n",
       "</style>\n",
       "<table border=\"1\" class=\"dataframe\">\n",
       "  <thead>\n",
       "    <tr style=\"text-align: right;\">\n",
       "      <th></th>\n",
       "      <th>Team</th>\n",
       "      <th>Tournament</th>\n",
       "      <th>Score</th>\n",
       "      <th>PlayedGames</th>\n",
       "      <th>WonGames</th>\n",
       "      <th>DrawnGames</th>\n",
       "      <th>LostGames</th>\n",
       "      <th>BasketScored</th>\n",
       "      <th>BasketGiven</th>\n",
       "      <th>TournamentChampion</th>\n",
       "      <th>Runner-up</th>\n",
       "      <th>TeamLaunch</th>\n",
       "      <th>HighestPositionHeld</th>\n",
       "    </tr>\n",
       "  </thead>\n",
       "  <tbody>\n",
       "    <tr>\n",
       "      <th>56</th>\n",
       "      <td>Team 57</td>\n",
       "      <td>1</td>\n",
       "      <td>34</td>\n",
       "      <td>38</td>\n",
       "      <td>8</td>\n",
       "      <td>10</td>\n",
       "      <td>20</td>\n",
       "      <td>38</td>\n",
       "      <td>66</td>\n",
       "      <td>-</td>\n",
       "      <td>-</td>\n",
       "      <td>2009-10</td>\n",
       "      <td>20</td>\n",
       "    </tr>\n",
       "    <tr>\n",
       "      <th>57</th>\n",
       "      <td>Team 58</td>\n",
       "      <td>1</td>\n",
       "      <td>22</td>\n",
       "      <td>30</td>\n",
       "      <td>7</td>\n",
       "      <td>8</td>\n",
       "      <td>15</td>\n",
       "      <td>37</td>\n",
       "      <td>57</td>\n",
       "      <td>-</td>\n",
       "      <td>-</td>\n",
       "      <td>1956-57</td>\n",
       "      <td>16</td>\n",
       "    </tr>\n",
       "    <tr>\n",
       "      <th>58</th>\n",
       "      <td>Team 59</td>\n",
       "      <td>1</td>\n",
       "      <td>19</td>\n",
       "      <td>30</td>\n",
       "      <td>7</td>\n",
       "      <td>5</td>\n",
       "      <td>18</td>\n",
       "      <td>51</td>\n",
       "      <td>85</td>\n",
       "      <td>-</td>\n",
       "      <td>-</td>\n",
       "      <td>1951~52</td>\n",
       "      <td>16</td>\n",
       "    </tr>\n",
       "    <tr>\n",
       "      <th>59</th>\n",
       "      <td>Team 60</td>\n",
       "      <td>1</td>\n",
       "      <td>14</td>\n",
       "      <td>30</td>\n",
       "      <td>5</td>\n",
       "      <td>4</td>\n",
       "      <td>21</td>\n",
       "      <td>34</td>\n",
       "      <td>65</td>\n",
       "      <td>-</td>\n",
       "      <td>-</td>\n",
       "      <td>1955-56</td>\n",
       "      <td>15</td>\n",
       "    </tr>\n",
       "    <tr>\n",
       "      <th>60</th>\n",
       "      <td>Team 61</td>\n",
       "      <td>1</td>\n",
       "      <td>-</td>\n",
       "      <td>-</td>\n",
       "      <td>-</td>\n",
       "      <td>-</td>\n",
       "      <td>-</td>\n",
       "      <td>-</td>\n",
       "      <td>-</td>\n",
       "      <td>-</td>\n",
       "      <td>-</td>\n",
       "      <td>2017~18</td>\n",
       "      <td>9</td>\n",
       "    </tr>\n",
       "  </tbody>\n",
       "</table>\n",
       "</div>"
      ],
      "text/plain": [
       "       Team  Tournament Score PlayedGames WonGames DrawnGames LostGames  \\\n",
       "56  Team 57           1    34          38        8         10        20   \n",
       "57  Team 58           1    22          30        7          8        15   \n",
       "58  Team 59           1    19          30        7          5        18   \n",
       "59  Team 60           1    14          30        5          4        21   \n",
       "60  Team 61           1     -           -        -          -         -   \n",
       "\n",
       "   BasketScored BasketGiven TournamentChampion Runner-up TeamLaunch  \\\n",
       "56           38          66                  -         -    2009-10   \n",
       "57           37          57                  -         -    1956-57   \n",
       "58           51          85                  -         -    1951~52   \n",
       "59           34          65                  -         -    1955-56   \n",
       "60            -           -                  -         -    2017~18   \n",
       "\n",
       "    HighestPositionHeld  \n",
       "56                   20  \n",
       "57                   16  \n",
       "58                   16  \n",
       "59                   15  \n",
       "60                    9  "
      ]
     },
     "execution_count": 5,
     "metadata": {},
     "output_type": "execute_result"
    }
   ],
   "source": [
    "#View the last 5 rows of data\n",
    "df.tail()"
   ]
  },
  {
   "cell_type": "code",
   "execution_count": 6,
   "metadata": {},
   "outputs": [
    {
     "name": "stdout",
     "output_type": "stream",
     "text": [
      "(61, 13)\n",
      "793\n"
     ]
    }
   ],
   "source": [
    "# understand shape and size of data \n",
    "print(df.shape)\n",
    "print (df.size)"
   ]
  },
  {
   "cell_type": "code",
   "execution_count": 7,
   "metadata": {},
   "outputs": [
    {
     "data": {
      "text/html": [
       "<div>\n",
       "<style scoped>\n",
       "    .dataframe tbody tr th:only-of-type {\n",
       "        vertical-align: middle;\n",
       "    }\n",
       "\n",
       "    .dataframe tbody tr th {\n",
       "        vertical-align: top;\n",
       "    }\n",
       "\n",
       "    .dataframe thead th {\n",
       "        text-align: right;\n",
       "    }\n",
       "</style>\n",
       "<table border=\"1\" class=\"dataframe\">\n",
       "  <thead>\n",
       "    <tr style=\"text-align: right;\">\n",
       "      <th></th>\n",
       "      <th>Tournament</th>\n",
       "      <th>HighestPositionHeld</th>\n",
       "    </tr>\n",
       "  </thead>\n",
       "  <tbody>\n",
       "    <tr>\n",
       "      <th>count</th>\n",
       "      <td>61.000000</td>\n",
       "      <td>61.000000</td>\n",
       "    </tr>\n",
       "    <tr>\n",
       "      <th>mean</th>\n",
       "      <td>24.000000</td>\n",
       "      <td>7.081967</td>\n",
       "    </tr>\n",
       "    <tr>\n",
       "      <th>std</th>\n",
       "      <td>26.827225</td>\n",
       "      <td>5.276663</td>\n",
       "    </tr>\n",
       "    <tr>\n",
       "      <th>min</th>\n",
       "      <td>1.000000</td>\n",
       "      <td>1.000000</td>\n",
       "    </tr>\n",
       "    <tr>\n",
       "      <th>25%</th>\n",
       "      <td>4.000000</td>\n",
       "      <td>3.000000</td>\n",
       "    </tr>\n",
       "    <tr>\n",
       "      <th>50%</th>\n",
       "      <td>12.000000</td>\n",
       "      <td>6.000000</td>\n",
       "    </tr>\n",
       "    <tr>\n",
       "      <th>75%</th>\n",
       "      <td>38.000000</td>\n",
       "      <td>10.000000</td>\n",
       "    </tr>\n",
       "    <tr>\n",
       "      <th>max</th>\n",
       "      <td>86.000000</td>\n",
       "      <td>20.000000</td>\n",
       "    </tr>\n",
       "  </tbody>\n",
       "</table>\n",
       "</div>"
      ],
      "text/plain": [
       "       Tournament  HighestPositionHeld\n",
       "count   61.000000            61.000000\n",
       "mean    24.000000             7.081967\n",
       "std     26.827225             5.276663\n",
       "min      1.000000             1.000000\n",
       "25%      4.000000             3.000000\n",
       "50%     12.000000             6.000000\n",
       "75%     38.000000            10.000000\n",
       "max     86.000000            20.000000"
      ]
     },
     "execution_count": 7,
     "metadata": {},
     "output_type": "execute_result"
    }
   ],
   "source": [
    "#Get a summary of the numerical columns in the data\n",
    "df.describe()"
   ]
  },
  {
   "cell_type": "code",
   "execution_count": 8,
   "metadata": {},
   "outputs": [
    {
     "name": "stdout",
     "output_type": "stream",
     "text": [
      "<class 'pandas.core.frame.DataFrame'>\n",
      "RangeIndex: 61 entries, 0 to 60\n",
      "Data columns (total 13 columns):\n",
      " #   Column               Non-Null Count  Dtype \n",
      "---  ------               --------------  ----- \n",
      " 0   Team                 61 non-null     object\n",
      " 1   Tournament           61 non-null     int64 \n",
      " 2   Score                61 non-null     object\n",
      " 3   PlayedGames          61 non-null     object\n",
      " 4   WonGames             61 non-null     object\n",
      " 5   DrawnGames           61 non-null     object\n",
      " 6   LostGames            61 non-null     object\n",
      " 7   BasketScored         61 non-null     object\n",
      " 8   BasketGiven          61 non-null     object\n",
      " 9   TournamentChampion   61 non-null     object\n",
      " 10  Runner-up            61 non-null     object\n",
      " 11  TeamLaunch           61 non-null     object\n",
      " 12  HighestPositionHeld  61 non-null     int64 \n",
      "dtypes: int64(2), object(11)\n",
      "memory usage: 6.3+ KB\n"
     ]
    }
   ],
   "source": [
    "#get more information about data\n",
    "df.info()"
   ]
  },
  {
   "cell_type": "code",
   "execution_count": 9,
   "metadata": {},
   "outputs": [
    {
     "data": {
      "text/plain": [
       "Team                   0\n",
       "Tournament             0\n",
       "Score                  0\n",
       "PlayedGames            0\n",
       "WonGames               0\n",
       "DrawnGames             0\n",
       "LostGames              0\n",
       "BasketScored           0\n",
       "BasketGiven            0\n",
       "TournamentChampion     0\n",
       "Runner-up              0\n",
       "TeamLaunch             0\n",
       "HighestPositionHeld    0\n",
       "dtype: int64"
      ]
     },
     "execution_count": 9,
     "metadata": {},
     "output_type": "execute_result"
    }
   ],
   "source": [
    "#Get the number of missing values in each column\n",
    "df.isnull().sum()"
   ]
  },
  {
   "cell_type": "code",
   "execution_count": 10,
   "metadata": {},
   "outputs": [
    {
     "data": {
      "text/html": [
       "<div>\n",
       "<style scoped>\n",
       "    .dataframe tbody tr th:only-of-type {\n",
       "        vertical-align: middle;\n",
       "    }\n",
       "\n",
       "    .dataframe tbody tr th {\n",
       "        vertical-align: top;\n",
       "    }\n",
       "\n",
       "    .dataframe thead th {\n",
       "        text-align: right;\n",
       "    }\n",
       "</style>\n",
       "<table border=\"1\" class=\"dataframe\">\n",
       "  <thead>\n",
       "    <tr style=\"text-align: right;\">\n",
       "      <th></th>\n",
       "      <th>Team</th>\n",
       "      <th>Tournament</th>\n",
       "      <th>Score</th>\n",
       "      <th>PlayedGames</th>\n",
       "      <th>WonGames</th>\n",
       "      <th>DrawnGames</th>\n",
       "      <th>LostGames</th>\n",
       "      <th>BasketScored</th>\n",
       "      <th>BasketGiven</th>\n",
       "      <th>TournamentChampion</th>\n",
       "      <th>Runner-up</th>\n",
       "      <th>TeamLaunch</th>\n",
       "      <th>HighestPositionHeld</th>\n",
       "    </tr>\n",
       "  </thead>\n",
       "  <tbody>\n",
       "    <tr>\n",
       "      <th>count</th>\n",
       "      <td>61</td>\n",
       "      <td>61.000000</td>\n",
       "      <td>61</td>\n",
       "      <td>61</td>\n",
       "      <td>61</td>\n",
       "      <td>61</td>\n",
       "      <td>61</td>\n",
       "      <td>61</td>\n",
       "      <td>61</td>\n",
       "      <td>61</td>\n",
       "      <td>61</td>\n",
       "      <td>61</td>\n",
       "      <td>61.000000</td>\n",
       "    </tr>\n",
       "    <tr>\n",
       "      <th>unique</th>\n",
       "      <td>61</td>\n",
       "      <td>NaN</td>\n",
       "      <td>61</td>\n",
       "      <td>53</td>\n",
       "      <td>59</td>\n",
       "      <td>57</td>\n",
       "      <td>56</td>\n",
       "      <td>60</td>\n",
       "      <td>61</td>\n",
       "      <td>8</td>\n",
       "      <td>10</td>\n",
       "      <td>47</td>\n",
       "      <td>NaN</td>\n",
       "    </tr>\n",
       "    <tr>\n",
       "      <th>top</th>\n",
       "      <td>Team 19</td>\n",
       "      <td>NaN</td>\n",
       "      <td>1389</td>\n",
       "      <td>2762</td>\n",
       "      <td>7</td>\n",
       "      <td>14</td>\n",
       "      <td>37</td>\n",
       "      <td>70</td>\n",
       "      <td>55</td>\n",
       "      <td>-</td>\n",
       "      <td>-</td>\n",
       "      <td>1929</td>\n",
       "      <td>NaN</td>\n",
       "    </tr>\n",
       "    <tr>\n",
       "      <th>freq</th>\n",
       "      <td>1</td>\n",
       "      <td>NaN</td>\n",
       "      <td>1</td>\n",
       "      <td>3</td>\n",
       "      <td>2</td>\n",
       "      <td>2</td>\n",
       "      <td>3</td>\n",
       "      <td>2</td>\n",
       "      <td>1</td>\n",
       "      <td>52</td>\n",
       "      <td>48</td>\n",
       "      <td>10</td>\n",
       "      <td>NaN</td>\n",
       "    </tr>\n",
       "    <tr>\n",
       "      <th>mean</th>\n",
       "      <td>NaN</td>\n",
       "      <td>24.000000</td>\n",
       "      <td>NaN</td>\n",
       "      <td>NaN</td>\n",
       "      <td>NaN</td>\n",
       "      <td>NaN</td>\n",
       "      <td>NaN</td>\n",
       "      <td>NaN</td>\n",
       "      <td>NaN</td>\n",
       "      <td>NaN</td>\n",
       "      <td>NaN</td>\n",
       "      <td>NaN</td>\n",
       "      <td>7.081967</td>\n",
       "    </tr>\n",
       "    <tr>\n",
       "      <th>std</th>\n",
       "      <td>NaN</td>\n",
       "      <td>26.827225</td>\n",
       "      <td>NaN</td>\n",
       "      <td>NaN</td>\n",
       "      <td>NaN</td>\n",
       "      <td>NaN</td>\n",
       "      <td>NaN</td>\n",
       "      <td>NaN</td>\n",
       "      <td>NaN</td>\n",
       "      <td>NaN</td>\n",
       "      <td>NaN</td>\n",
       "      <td>NaN</td>\n",
       "      <td>5.276663</td>\n",
       "    </tr>\n",
       "    <tr>\n",
       "      <th>min</th>\n",
       "      <td>NaN</td>\n",
       "      <td>1.000000</td>\n",
       "      <td>NaN</td>\n",
       "      <td>NaN</td>\n",
       "      <td>NaN</td>\n",
       "      <td>NaN</td>\n",
       "      <td>NaN</td>\n",
       "      <td>NaN</td>\n",
       "      <td>NaN</td>\n",
       "      <td>NaN</td>\n",
       "      <td>NaN</td>\n",
       "      <td>NaN</td>\n",
       "      <td>1.000000</td>\n",
       "    </tr>\n",
       "    <tr>\n",
       "      <th>25%</th>\n",
       "      <td>NaN</td>\n",
       "      <td>4.000000</td>\n",
       "      <td>NaN</td>\n",
       "      <td>NaN</td>\n",
       "      <td>NaN</td>\n",
       "      <td>NaN</td>\n",
       "      <td>NaN</td>\n",
       "      <td>NaN</td>\n",
       "      <td>NaN</td>\n",
       "      <td>NaN</td>\n",
       "      <td>NaN</td>\n",
       "      <td>NaN</td>\n",
       "      <td>3.000000</td>\n",
       "    </tr>\n",
       "    <tr>\n",
       "      <th>50%</th>\n",
       "      <td>NaN</td>\n",
       "      <td>12.000000</td>\n",
       "      <td>NaN</td>\n",
       "      <td>NaN</td>\n",
       "      <td>NaN</td>\n",
       "      <td>NaN</td>\n",
       "      <td>NaN</td>\n",
       "      <td>NaN</td>\n",
       "      <td>NaN</td>\n",
       "      <td>NaN</td>\n",
       "      <td>NaN</td>\n",
       "      <td>NaN</td>\n",
       "      <td>6.000000</td>\n",
       "    </tr>\n",
       "    <tr>\n",
       "      <th>75%</th>\n",
       "      <td>NaN</td>\n",
       "      <td>38.000000</td>\n",
       "      <td>NaN</td>\n",
       "      <td>NaN</td>\n",
       "      <td>NaN</td>\n",
       "      <td>NaN</td>\n",
       "      <td>NaN</td>\n",
       "      <td>NaN</td>\n",
       "      <td>NaN</td>\n",
       "      <td>NaN</td>\n",
       "      <td>NaN</td>\n",
       "      <td>NaN</td>\n",
       "      <td>10.000000</td>\n",
       "    </tr>\n",
       "    <tr>\n",
       "      <th>max</th>\n",
       "      <td>NaN</td>\n",
       "      <td>86.000000</td>\n",
       "      <td>NaN</td>\n",
       "      <td>NaN</td>\n",
       "      <td>NaN</td>\n",
       "      <td>NaN</td>\n",
       "      <td>NaN</td>\n",
       "      <td>NaN</td>\n",
       "      <td>NaN</td>\n",
       "      <td>NaN</td>\n",
       "      <td>NaN</td>\n",
       "      <td>NaN</td>\n",
       "      <td>20.000000</td>\n",
       "    </tr>\n",
       "  </tbody>\n",
       "</table>\n",
       "</div>"
      ],
      "text/plain": [
       "           Team  Tournament Score PlayedGames WonGames DrawnGames LostGames  \\\n",
       "count        61   61.000000    61          61       61         61        61   \n",
       "unique       61         NaN    61          53       59         57        56   \n",
       "top     Team 19         NaN  1389        2762        7         14        37   \n",
       "freq          1         NaN     1           3        2          2         3   \n",
       "mean        NaN   24.000000   NaN         NaN      NaN        NaN       NaN   \n",
       "std         NaN   26.827225   NaN         NaN      NaN        NaN       NaN   \n",
       "min         NaN    1.000000   NaN         NaN      NaN        NaN       NaN   \n",
       "25%         NaN    4.000000   NaN         NaN      NaN        NaN       NaN   \n",
       "50%         NaN   12.000000   NaN         NaN      NaN        NaN       NaN   \n",
       "75%         NaN   38.000000   NaN         NaN      NaN        NaN       NaN   \n",
       "max         NaN   86.000000   NaN         NaN      NaN        NaN       NaN   \n",
       "\n",
       "       BasketScored BasketGiven TournamentChampion Runner-up TeamLaunch  \\\n",
       "count            61          61                 61        61         61   \n",
       "unique           60          61                  8        10         47   \n",
       "top              70          55                  -         -       1929   \n",
       "freq              2           1                 52        48         10   \n",
       "mean            NaN         NaN                NaN       NaN        NaN   \n",
       "std             NaN         NaN                NaN       NaN        NaN   \n",
       "min             NaN         NaN                NaN       NaN        NaN   \n",
       "25%             NaN         NaN                NaN       NaN        NaN   \n",
       "50%             NaN         NaN                NaN       NaN        NaN   \n",
       "75%             NaN         NaN                NaN       NaN        NaN   \n",
       "max             NaN         NaN                NaN       NaN        NaN   \n",
       "\n",
       "        HighestPositionHeld  \n",
       "count             61.000000  \n",
       "unique                  NaN  \n",
       "top                     NaN  \n",
       "freq                    NaN  \n",
       "mean               7.081967  \n",
       "std                5.276663  \n",
       "min                1.000000  \n",
       "25%                3.000000  \n",
       "50%                6.000000  \n",
       "75%               10.000000  \n",
       "max               20.000000  "
      ]
     },
     "execution_count": 10,
     "metadata": {},
     "output_type": "execute_result"
    }
   ],
   "source": [
    "df.describe(include=\"all\")"
   ]
  },
  {
   "cell_type": "markdown",
   "metadata": {},
   "source": [
    "### Plotting univariate distributions"
   ]
  },
  {
   "cell_type": "code",
   "execution_count": 49,
   "metadata": {},
   "outputs": [
    {
     "name": "stderr",
     "output_type": "stream",
     "text": [
      "C:\\Users\\enaysep\\Anaconda3\\lib\\site-packages\\seaborn\\distributions.py:2551: FutureWarning: `distplot` is a deprecated function and will be removed in a future version. Please adapt your code to use either `displot` (a figure-level function with similar flexibility) or `histplot` (an axes-level function for histograms).\n",
      "  warnings.warn(msg, FutureWarning)\n"
     ]
    },
    {
     "data": {
      "image/png": "[encoded data removed]",
      "text/plain": [
       "<Figure size 432x288 with 1 Axes>"
      ]
     },
     "metadata": {
      "needs_background": "light"
     },
     "output_type": "display_data"
    }
   ],
   "source": [
    "sns.distplot(df['HighestPositionHeld']);"
   ]
  },
  {
   "cell_type": "markdown",
   "metadata": {},
   "source": [
    "#### Use statistical techniques and visualisation techniques to come up with useful metrics and reporting. \n",
    "Find out the best performing team, oldest team, team with highest goals, team with lowest performance etc. and many more. These are just random examples please use your best analytical approach to build this report. You can mix match columns to create new ones which can be used for better analysis. Create your own features if required. Be highly experimental and analytical here to find hidden patterns. Use graphical interactive libraries to enable you to publish interactive plots in python."
   ]
  },
  {
   "cell_type": "code",
   "execution_count": 95,
   "metadata": {},
   "outputs": [
    {
     "data": {
      "text/plain": [
       "Team                    Team 9\n",
       "Tournament                  86\n",
       "Score                      970\n",
       "PlayedGames                988\n",
       "WonGames                   990\n",
       "DrawnGames                  95\n",
       "LostGames                   95\n",
       "BasketScored                97\n",
       "BasketGiven                992\n",
       "TournamentChampion           8\n",
       "Runner-up                    8\n",
       "TeamLaunch             2017~18\n",
       "HighestPositionHeld         20\n",
       "dtype: object"
      ]
     },
     "execution_count": 95,
     "metadata": {},
     "output_type": "execute_result"
    }
   ],
   "source": [
    "df.max()"
   ]
  },
  {
   "cell_type": "markdown",
   "metadata": {},
   "source": [
    "#### Best performing team Team 9"
   ]
  },
  {
   "cell_type": "code",
   "execution_count": 125,
   "metadata": {},
   "outputs": [
    {
     "data": {
      "text/plain": [
       "'1929'"
      ]
     },
     "execution_count": 125,
     "metadata": {},
     "output_type": "execute_result"
    }
   ],
   "source": [
    "#oldest team\n",
    "\n",
    "df['TeamLaunch'].min()"
   ]
  },
  {
   "cell_type": "code",
   "execution_count": 113,
   "metadata": {},
   "outputs": [
    {
     "data": {
      "text/html": [
       "<div>\n",
       "<style scoped>\n",
       "    .dataframe tbody tr th:only-of-type {\n",
       "        vertical-align: middle;\n",
       "    }\n",
       "\n",
       "    .dataframe tbody tr th {\n",
       "        vertical-align: top;\n",
       "    }\n",
       "\n",
       "    .dataframe thead th {\n",
       "        text-align: right;\n",
       "    }\n",
       "</style>\n",
       "<table border=\"1\" class=\"dataframe\">\n",
       "  <thead>\n",
       "    <tr style=\"text-align: right;\">\n",
       "      <th></th>\n",
       "      <th>Team</th>\n",
       "      <th>Tournament</th>\n",
       "      <th>Score</th>\n",
       "      <th>PlayedGames</th>\n",
       "      <th>WonGames</th>\n",
       "      <th>DrawnGames</th>\n",
       "      <th>LostGames</th>\n",
       "      <th>BasketScored</th>\n",
       "      <th>BasketGiven</th>\n",
       "      <th>TournamentChampion</th>\n",
       "      <th>Runner-up</th>\n",
       "      <th>TeamLaunch</th>\n",
       "      <th>HighestPositionHeld</th>\n",
       "    </tr>\n",
       "  </thead>\n",
       "  <tbody>\n",
       "    <tr>\n",
       "      <th>0</th>\n",
       "      <td>Team 1</td>\n",
       "      <td>86</td>\n",
       "      <td>4385</td>\n",
       "      <td>2762</td>\n",
       "      <td>1647</td>\n",
       "      <td>552</td>\n",
       "      <td>563</td>\n",
       "      <td>5947</td>\n",
       "      <td>3140</td>\n",
       "      <td>33</td>\n",
       "      <td>23</td>\n",
       "      <td>1929</td>\n",
       "      <td>1</td>\n",
       "    </tr>\n",
       "    <tr>\n",
       "      <th>1</th>\n",
       "      <td>Team 2</td>\n",
       "      <td>86</td>\n",
       "      <td>4262</td>\n",
       "      <td>2762</td>\n",
       "      <td>1581</td>\n",
       "      <td>573</td>\n",
       "      <td>608</td>\n",
       "      <td>5900</td>\n",
       "      <td>3114</td>\n",
       "      <td>25</td>\n",
       "      <td>25</td>\n",
       "      <td>1929</td>\n",
       "      <td>1</td>\n",
       "    </tr>\n",
       "    <tr>\n",
       "      <th>2</th>\n",
       "      <td>Team 3</td>\n",
       "      <td>80</td>\n",
       "      <td>3442</td>\n",
       "      <td>2614</td>\n",
       "      <td>1241</td>\n",
       "      <td>598</td>\n",
       "      <td>775</td>\n",
       "      <td>4534</td>\n",
       "      <td>3309</td>\n",
       "      <td>10</td>\n",
       "      <td>8</td>\n",
       "      <td>1929</td>\n",
       "      <td>1</td>\n",
       "    </tr>\n",
       "    <tr>\n",
       "      <th>4</th>\n",
       "      <td>Team 5</td>\n",
       "      <td>86</td>\n",
       "      <td>3368</td>\n",
       "      <td>2762</td>\n",
       "      <td>1209</td>\n",
       "      <td>633</td>\n",
       "      <td>920</td>\n",
       "      <td>4631</td>\n",
       "      <td>3700</td>\n",
       "      <td>8</td>\n",
       "      <td>7</td>\n",
       "      <td>1929</td>\n",
       "      <td>1</td>\n",
       "    </tr>\n",
       "    <tr>\n",
       "      <th>6</th>\n",
       "      <td>Team 7</td>\n",
       "      <td>82</td>\n",
       "      <td>2792</td>\n",
       "      <td>2626</td>\n",
       "      <td>948</td>\n",
       "      <td>608</td>\n",
       "      <td>1070</td>\n",
       "      <td>3609</td>\n",
       "      <td>3889</td>\n",
       "      <td>-</td>\n",
       "      <td>-</td>\n",
       "      <td>1929</td>\n",
       "      <td>3</td>\n",
       "    </tr>\n",
       "    <tr>\n",
       "      <th>7</th>\n",
       "      <td>Team 8</td>\n",
       "      <td>70</td>\n",
       "      <td>2573</td>\n",
       "      <td>2302</td>\n",
       "      <td>864</td>\n",
       "      <td>577</td>\n",
       "      <td>861</td>\n",
       "      <td>3228</td>\n",
       "      <td>3230</td>\n",
       "      <td>2</td>\n",
       "      <td>3</td>\n",
       "      <td>1929</td>\n",
       "      <td>1</td>\n",
       "    </tr>\n",
       "    <tr>\n",
       "      <th>13</th>\n",
       "      <td>Team 14</td>\n",
       "      <td>44</td>\n",
       "      <td>1416</td>\n",
       "      <td>1428</td>\n",
       "      <td>453</td>\n",
       "      <td>336</td>\n",
       "      <td>639</td>\n",
       "      <td>1843</td>\n",
       "      <td>2368</td>\n",
       "      <td>-</td>\n",
       "      <td>1</td>\n",
       "      <td>1929</td>\n",
       "      <td>2</td>\n",
       "    </tr>\n",
       "    <tr>\n",
       "      <th>44</th>\n",
       "      <td>Team 45</td>\n",
       "      <td>7</td>\n",
       "      <td>107</td>\n",
       "      <td>130</td>\n",
       "      <td>43</td>\n",
       "      <td>21</td>\n",
       "      <td>66</td>\n",
       "      <td>227</td>\n",
       "      <td>308</td>\n",
       "      <td>-</td>\n",
       "      <td>-</td>\n",
       "      <td>1929</td>\n",
       "      <td>3</td>\n",
       "    </tr>\n",
       "    <tr>\n",
       "      <th>51</th>\n",
       "      <td>Team 52</td>\n",
       "      <td>4</td>\n",
       "      <td>56</td>\n",
       "      <td>72</td>\n",
       "      <td>21</td>\n",
       "      <td>14</td>\n",
       "      <td>37</td>\n",
       "      <td>153</td>\n",
       "      <td>184</td>\n",
       "      <td>-</td>\n",
       "      <td>-</td>\n",
       "      <td>1929</td>\n",
       "      <td>6</td>\n",
       "    </tr>\n",
       "    <tr>\n",
       "      <th>53</th>\n",
       "      <td>Team 54</td>\n",
       "      <td>3</td>\n",
       "      <td>42</td>\n",
       "      <td>54</td>\n",
       "      <td>18</td>\n",
       "      <td>6</td>\n",
       "      <td>30</td>\n",
       "      <td>97</td>\n",
       "      <td>131</td>\n",
       "      <td>-</td>\n",
       "      <td>-</td>\n",
       "      <td>1929</td>\n",
       "      <td>8</td>\n",
       "    </tr>\n",
       "  </tbody>\n",
       "</table>\n",
       "</div>"
      ],
      "text/plain": [
       "       Team  Tournament Score PlayedGames WonGames DrawnGames LostGames  \\\n",
       "0    Team 1          86  4385        2762     1647        552       563   \n",
       "1    Team 2          86  4262        2762     1581        573       608   \n",
       "2    Team 3          80  3442        2614     1241        598       775   \n",
       "4    Team 5          86  3368        2762     1209        633       920   \n",
       "6    Team 7          82  2792        2626      948        608      1070   \n",
       "7    Team 8          70  2573        2302      864        577       861   \n",
       "13  Team 14          44  1416        1428      453        336       639   \n",
       "44  Team 45           7   107         130       43         21        66   \n",
       "51  Team 52           4    56          72       21         14        37   \n",
       "53  Team 54           3    42          54       18          6        30   \n",
       "\n",
       "   BasketScored BasketGiven TournamentChampion Runner-up TeamLaunch  \\\n",
       "0          5947        3140                 33        23       1929   \n",
       "1          5900        3114                 25        25       1929   \n",
       "2          4534        3309                 10         8       1929   \n",
       "4          4631        3700                  8         7       1929   \n",
       "6          3609        3889                  -         -       1929   \n",
       "7          3228        3230                  2         3       1929   \n",
       "13         1843        2368                  -         1       1929   \n",
       "44          227         308                  -         -       1929   \n",
       "51          153         184                  -         -       1929   \n",
       "53           97         131                  -         -       1929   \n",
       "\n",
       "    HighestPositionHeld  \n",
       "0                     1  \n",
       "1                     1  \n",
       "2                     1  \n",
       "4                     1  \n",
       "6                     3  \n",
       "7                     1  \n",
       "13                    2  \n",
       "44                    3  \n",
       "51                    6  \n",
       "53                    8  "
      ]
     },
     "execution_count": 113,
     "metadata": {},
     "output_type": "execute_result"
    }
   ],
   "source": [
    "df[df['TeamLaunch']=='1929']"
   ]
  },
  {
   "cell_type": "code",
   "execution_count": 129,
   "metadata": {},
   "outputs": [
    {
     "data": {
      "text/plain": [
       "<bound method Series.max of 0     4385\n",
       "1     4262\n",
       "2     3442\n",
       "3     3386\n",
       "4     3368\n",
       "      ... \n",
       "56      34\n",
       "57      22\n",
       "58      19\n",
       "59      14\n",
       "60       -\n",
       "Name: Score, Length: 61, dtype: object>"
      ]
     },
     "execution_count": 129,
     "metadata": {},
     "output_type": "execute_result"
    }
   ],
   "source": [
    "#team with highest goals\n",
    "df['Score'].max"
   ]
  },
  {
   "cell_type": "code",
   "execution_count": 139,
   "metadata": {},
   "outputs": [
    {
     "data": {
      "text/html": [
       "<div>\n",
       "<style scoped>\n",
       "    .dataframe tbody tr th:only-of-type {\n",
       "        vertical-align: middle;\n",
       "    }\n",
       "\n",
       "    .dataframe tbody tr th {\n",
       "        vertical-align: top;\n",
       "    }\n",
       "\n",
       "    .dataframe thead th {\n",
       "        text-align: right;\n",
       "    }\n",
       "</style>\n",
       "<table border=\"1\" class=\"dataframe\">\n",
       "  <thead>\n",
       "    <tr style=\"text-align: right;\">\n",
       "      <th></th>\n",
       "      <th>Team</th>\n",
       "      <th>Tournament</th>\n",
       "      <th>Score</th>\n",
       "      <th>PlayedGames</th>\n",
       "      <th>WonGames</th>\n",
       "      <th>DrawnGames</th>\n",
       "      <th>LostGames</th>\n",
       "      <th>BasketScored</th>\n",
       "      <th>BasketGiven</th>\n",
       "      <th>TournamentChampion</th>\n",
       "      <th>Runner-up</th>\n",
       "      <th>TeamLaunch</th>\n",
       "      <th>HighestPositionHeld</th>\n",
       "    </tr>\n",
       "  </thead>\n",
       "  <tbody>\n",
       "    <tr>\n",
       "      <th>0</th>\n",
       "      <td>Team 1</td>\n",
       "      <td>86</td>\n",
       "      <td>4385</td>\n",
       "      <td>2762</td>\n",
       "      <td>1647</td>\n",
       "      <td>552</td>\n",
       "      <td>563</td>\n",
       "      <td>5947</td>\n",
       "      <td>3140</td>\n",
       "      <td>33</td>\n",
       "      <td>23</td>\n",
       "      <td>1929</td>\n",
       "      <td>1</td>\n",
       "    </tr>\n",
       "  </tbody>\n",
       "</table>\n",
       "</div>"
      ],
      "text/plain": [
       "     Team  Tournament Score PlayedGames WonGames DrawnGames LostGames  \\\n",
       "0  Team 1          86  4385        2762     1647        552       563   \n",
       "\n",
       "  BasketScored BasketGiven TournamentChampion Runner-up TeamLaunch  \\\n",
       "0         5947        3140                 33        23       1929   \n",
       "\n",
       "   HighestPositionHeld  \n",
       "0                    1  "
      ]
     },
     "execution_count": 139,
     "metadata": {},
     "output_type": "execute_result"
    }
   ],
   "source": [
    "df[df['Score']=='4385']"
   ]
  },
  {
   "cell_type": "markdown",
   "metadata": {},
   "source": [
    "Team 1 has the highest goals"
   ]
  },
  {
   "cell_type": "code",
   "execution_count": 161,
   "metadata": {},
   "outputs": [
    {
     "data": {
      "text/plain": [
       "1"
      ]
     },
     "execution_count": 161,
     "metadata": {},
     "output_type": "execute_result"
    }
   ],
   "source": [
    "#team with lowest performance\n",
    "df['HighestPositionHeld'].min()"
   ]
  },
  {
   "cell_type": "code",
   "execution_count": 166,
   "metadata": {},
   "outputs": [
    {
     "data": {
      "text/html": [
       "<div>\n",
       "<style scoped>\n",
       "    .dataframe tbody tr th:only-of-type {\n",
       "        vertical-align: middle;\n",
       "    }\n",
       "\n",
       "    .dataframe tbody tr th {\n",
       "        vertical-align: top;\n",
       "    }\n",
       "\n",
       "    .dataframe thead th {\n",
       "        text-align: right;\n",
       "    }\n",
       "</style>\n",
       "<table border=\"1\" class=\"dataframe\">\n",
       "  <thead>\n",
       "    <tr style=\"text-align: right;\">\n",
       "      <th></th>\n",
       "      <th>Team</th>\n",
       "      <th>Tournament</th>\n",
       "      <th>Score</th>\n",
       "      <th>PlayedGames</th>\n",
       "      <th>WonGames</th>\n",
       "      <th>DrawnGames</th>\n",
       "      <th>LostGames</th>\n",
       "      <th>BasketScored</th>\n",
       "      <th>BasketGiven</th>\n",
       "      <th>TournamentChampion</th>\n",
       "      <th>Runner-up</th>\n",
       "      <th>TeamLaunch</th>\n",
       "      <th>HighestPositionHeld</th>\n",
       "    </tr>\n",
       "  </thead>\n",
       "  <tbody>\n",
       "    <tr>\n",
       "      <th>0</th>\n",
       "      <td>Team 1</td>\n",
       "      <td>86</td>\n",
       "      <td>4385</td>\n",
       "      <td>2762</td>\n",
       "      <td>1647</td>\n",
       "      <td>552</td>\n",
       "      <td>563</td>\n",
       "      <td>5947</td>\n",
       "      <td>3140</td>\n",
       "      <td>33</td>\n",
       "      <td>23</td>\n",
       "      <td>1929</td>\n",
       "      <td>1</td>\n",
       "    </tr>\n",
       "    <tr>\n",
       "      <th>1</th>\n",
       "      <td>Team 2</td>\n",
       "      <td>86</td>\n",
       "      <td>4262</td>\n",
       "      <td>2762</td>\n",
       "      <td>1581</td>\n",
       "      <td>573</td>\n",
       "      <td>608</td>\n",
       "      <td>5900</td>\n",
       "      <td>3114</td>\n",
       "      <td>25</td>\n",
       "      <td>25</td>\n",
       "      <td>1929</td>\n",
       "      <td>1</td>\n",
       "    </tr>\n",
       "    <tr>\n",
       "      <th>2</th>\n",
       "      <td>Team 3</td>\n",
       "      <td>80</td>\n",
       "      <td>3442</td>\n",
       "      <td>2614</td>\n",
       "      <td>1241</td>\n",
       "      <td>598</td>\n",
       "      <td>775</td>\n",
       "      <td>4534</td>\n",
       "      <td>3309</td>\n",
       "      <td>10</td>\n",
       "      <td>8</td>\n",
       "      <td>1929</td>\n",
       "      <td>1</td>\n",
       "    </tr>\n",
       "    <tr>\n",
       "      <th>3</th>\n",
       "      <td>Team 4</td>\n",
       "      <td>82</td>\n",
       "      <td>3386</td>\n",
       "      <td>2664</td>\n",
       "      <td>1187</td>\n",
       "      <td>616</td>\n",
       "      <td>861</td>\n",
       "      <td>4398</td>\n",
       "      <td>3469</td>\n",
       "      <td>6</td>\n",
       "      <td>6</td>\n",
       "      <td>1931to32</td>\n",
       "      <td>1</td>\n",
       "    </tr>\n",
       "    <tr>\n",
       "      <th>4</th>\n",
       "      <td>Team 5</td>\n",
       "      <td>86</td>\n",
       "      <td>3368</td>\n",
       "      <td>2762</td>\n",
       "      <td>1209</td>\n",
       "      <td>633</td>\n",
       "      <td>920</td>\n",
       "      <td>4631</td>\n",
       "      <td>3700</td>\n",
       "      <td>8</td>\n",
       "      <td>7</td>\n",
       "      <td>1929</td>\n",
       "      <td>1</td>\n",
       "    </tr>\n",
       "    <tr>\n",
       "      <th>5</th>\n",
       "      <td>Team 6</td>\n",
       "      <td>73</td>\n",
       "      <td>2819</td>\n",
       "      <td>2408</td>\n",
       "      <td>990</td>\n",
       "      <td>531</td>\n",
       "      <td>887</td>\n",
       "      <td>3680</td>\n",
       "      <td>3373</td>\n",
       "      <td>1</td>\n",
       "      <td>4</td>\n",
       "      <td>1934-35</td>\n",
       "      <td>1</td>\n",
       "    </tr>\n",
       "    <tr>\n",
       "      <th>7</th>\n",
       "      <td>Team 8</td>\n",
       "      <td>70</td>\n",
       "      <td>2573</td>\n",
       "      <td>2302</td>\n",
       "      <td>864</td>\n",
       "      <td>577</td>\n",
       "      <td>861</td>\n",
       "      <td>3228</td>\n",
       "      <td>3230</td>\n",
       "      <td>2</td>\n",
       "      <td>3</td>\n",
       "      <td>1929</td>\n",
       "      <td>1</td>\n",
       "    </tr>\n",
       "    <tr>\n",
       "      <th>9</th>\n",
       "      <td>Team 10</td>\n",
       "      <td>51</td>\n",
       "      <td>1884</td>\n",
       "      <td>1728</td>\n",
       "      <td>606</td>\n",
       "      <td>440</td>\n",
       "      <td>682</td>\n",
       "      <td>2159</td>\n",
       "      <td>2492</td>\n",
       "      <td>1</td>\n",
       "      <td>-</td>\n",
       "      <td>1932-33</td>\n",
       "      <td>1</td>\n",
       "    </tr>\n",
       "    <tr>\n",
       "      <th>10</th>\n",
       "      <td>Team 11</td>\n",
       "      <td>45</td>\n",
       "      <td>1814</td>\n",
       "      <td>1530</td>\n",
       "      <td>563</td>\n",
       "      <td>392</td>\n",
       "      <td>575</td>\n",
       "      <td>2052</td>\n",
       "      <td>2188</td>\n",
       "      <td>1</td>\n",
       "      <td>5</td>\n",
       "      <td>1941to42</td>\n",
       "      <td>1</td>\n",
       "    </tr>\n",
       "  </tbody>\n",
       "</table>\n",
       "</div>"
      ],
      "text/plain": [
       "       Team  Tournament Score PlayedGames WonGames DrawnGames LostGames  \\\n",
       "0    Team 1          86  4385        2762     1647        552       563   \n",
       "1    Team 2          86  4262        2762     1581        573       608   \n",
       "2    Team 3          80  3442        2614     1241        598       775   \n",
       "3    Team 4          82  3386        2664     1187        616       861   \n",
       "4    Team 5          86  3368        2762     1209        633       920   \n",
       "5    Team 6          73  2819        2408      990        531       887   \n",
       "7    Team 8          70  2573        2302      864        577       861   \n",
       "9   Team 10          51  1884        1728      606        440       682   \n",
       "10  Team 11          45  1814        1530      563        392       575   \n",
       "\n",
       "   BasketScored BasketGiven TournamentChampion Runner-up TeamLaunch  \\\n",
       "0          5947        3140                 33        23       1929   \n",
       "1          5900        3114                 25        25       1929   \n",
       "2          4534        3309                 10         8       1929   \n",
       "3          4398        3469                  6         6   1931to32   \n",
       "4          4631        3700                  8         7       1929   \n",
       "5          3680        3373                  1         4    1934-35   \n",
       "7          3228        3230                  2         3       1929   \n",
       "9          2159        2492                  1         -    1932-33   \n",
       "10         2052        2188                  1         5   1941to42   \n",
       "\n",
       "    HighestPositionHeld  \n",
       "0                     1  \n",
       "1                     1  \n",
       "2                     1  \n",
       "3                     1  \n",
       "4                     1  \n",
       "5                     1  \n",
       "7                     1  \n",
       "9                     1  \n",
       "10                    1  "
      ]
     },
     "execution_count": 166,
     "metadata": {},
     "output_type": "execute_result"
    }
   ],
   "source": [
    "df[df['HighestPositionHeld']==1]"
   ]
  },
  {
   "cell_type": "code",
   "execution_count": 59,
   "metadata": {},
   "outputs": [
    {
     "data": {
      "text/plain": [
       "Tournament             24.000000\n",
       "HighestPositionHeld     7.081967\n",
       "dtype: float64"
      ]
     },
     "execution_count": 59,
     "metadata": {},
     "output_type": "execute_result"
    }
   ],
   "source": [
    "df.mean()"
   ]
  },
  {
   "cell_type": "code",
   "execution_count": 64,
   "metadata": {},
   "outputs": [
    {
     "data": {
      "text/plain": [
       "Tournament             12.0\n",
       "HighestPositionHeld     6.0\n",
       "dtype: float64"
      ]
     },
     "execution_count": 64,
     "metadata": {},
     "output_type": "execute_result"
    }
   ],
   "source": [
    "df.median()"
   ]
  },
  {
   "cell_type": "code",
   "execution_count": 40,
   "metadata": {},
   "outputs": [
    {
     "name": "stderr",
     "output_type": "stream",
     "text": [
      "C:\\Users\\enaysep\\Anaconda3\\lib\\site-packages\\seaborn\\distributions.py:2551: FutureWarning: `distplot` is a deprecated function and will be removed in a future version. Please adapt your code to use either `displot` (a figure-level function with similar flexibility) or `histplot` (an axes-level function for histograms).\n",
      "  warnings.warn(msg, FutureWarning)\n",
      "C:\\Users\\enaysep\\Anaconda3\\lib\\site-packages\\seaborn\\distributions.py:2055: FutureWarning: The `axis` variable is no longer used and will be removed. Instead, assign variables directly to `x` or `y`.\n",
      "  warnings.warn(msg, FutureWarning)\n"
     ]
    },
    {
     "data": {
      "image/png": "[encoded data removed]",
      "text/plain": [
       "<Figure size 432x288 with 1 Axes>"
      ]
     },
     "metadata": {
      "needs_background": "light"
     },
     "output_type": "display_data"
    }
   ],
   "source": [
    "# we can turn the kde off and put a tic mark along the x-axis for every data point with rug\n",
    "sns.distplot(df['HighestPositionHeld'], kde=False, rug=True);"
   ]
  },
  {
   "cell_type": "code",
   "execution_count": 13,
   "metadata": {},
   "outputs": [
    {
     "name": "stderr",
     "output_type": "stream",
     "text": [
      "C:\\Users\\enaysep\\Anaconda3\\lib\\site-packages\\seaborn\\distributions.py:2551: FutureWarning: `distplot` is a deprecated function and will be removed in a future version. Please adapt your code to use either `displot` (a figure-level function with similar flexibility) or `histplot` (an axes-level function for histograms).\n",
      "  warnings.warn(msg, FutureWarning)\n"
     ]
    },
    {
     "data": {
      "image/png": "[encoded data removed]",
      "text/plain": [
       "<Figure size 432x288 with 1 Axes>"
      ]
     },
     "metadata": {
      "needs_background": "light"
     },
     "output_type": "display_data"
    }
   ],
   "source": [
    "sns.distplot(df['Tournament']);"
   ]
  },
  {
   "cell_type": "markdown",
   "metadata": {},
   "source": [
    "### Plotting bivariate distributions"
   ]
  },
  {
   "cell_type": "code",
   "execution_count": 14,
   "metadata": {},
   "outputs": [
    {
     "name": "stderr",
     "output_type": "stream",
     "text": [
      "C:\\Users\\enaysep\\Anaconda3\\lib\\site-packages\\seaborn\\_decorators.py:36: FutureWarning: Pass the following variables as keyword args: x, y. From version 0.12, the only valid positional argument will be `data`, and passing other arguments without an explicit keyword will result in an error or misinterpretation.\n",
      "  warnings.warn(\n"
     ]
    },
    {
     "data": {
      "image/png": "[encoded data removed]",
      "text/plain": [
       "<Figure size 432x432 with 3 Axes>"
      ]
     },
     "metadata": {
      "needs_background": "light"
     },
     "output_type": "display_data"
    }
   ],
   "source": [
    "sns.jointplot(df['Tournament'], df['HighestPositionHeld']);"
   ]
  },
  {
   "cell_type": "markdown",
   "metadata": {},
   "source": [
    "### Hex Bin Plots"
   ]
  },
  {
   "cell_type": "code",
   "execution_count": 15,
   "metadata": {},
   "outputs": [
    {
     "name": "stderr",
     "output_type": "stream",
     "text": [
      "C:\\Users\\enaysep\\Anaconda3\\lib\\site-packages\\seaborn\\_decorators.py:36: FutureWarning: Pass the following variables as keyword args: x, y. From version 0.12, the only valid positional argument will be `data`, and passing other arguments without an explicit keyword will result in an error or misinterpretation.\n",
      "  warnings.warn(\n"
     ]
    },
    {
     "data": {
      "image/png": "[encoded data removed]",
      "text/plain": [
       "<Figure size 432x432 with 3 Axes>"
      ]
     },
     "metadata": {
      "needs_background": "light"
     },
     "output_type": "display_data"
    }
   ],
   "source": [
    "sns.jointplot(df['Tournament'], df['HighestPositionHeld'], kind=\"hex\");"
   ]
  },
  {
   "cell_type": "code",
   "execution_count": 16,
   "metadata": {},
   "outputs": [
    {
     "name": "stderr",
     "output_type": "stream",
     "text": [
      "C:\\Users\\enaysep\\Anaconda3\\lib\\site-packages\\seaborn\\_decorators.py:36: FutureWarning: Pass the following variables as keyword args: x, y. From version 0.12, the only valid positional argument will be `data`, and passing other arguments without an explicit keyword will result in an error or misinterpretation.\n",
      "  warnings.warn(\n"
     ]
    },
    {
     "data": {
      "image/png": "[encoded data removed]",
      "text/plain": [
       "<Figure size 432x432 with 3 Axes>"
      ]
     },
     "metadata": {
      "needs_background": "light"
     },
     "output_type": "display_data"
    }
   ],
   "source": [
    "sns.jointplot(df['Tournament'], df['HighestPositionHeld'], kind=\"kde\");"
   ]
  },
  {
   "cell_type": "markdown",
   "metadata": {},
   "source": [
    "### Visualizing pairwise relationships"
   ]
  },
  {
   "cell_type": "code",
   "execution_count": 21,
   "metadata": {},
   "outputs": [
    {
     "data": {
      "image/png": "[encoded data removed]",
      "text/plain": [
       "<Figure size 360x360 with 6 Axes>"
      ]
     },
     "metadata": {
      "needs_background": "light"
     },
     "output_type": "display_data"
    }
   ],
   "source": [
    "sns.pairplot(df[['Tournament', 'HighestPositionHeld']]);"
   ]
  },
  {
   "cell_type": "markdown",
   "metadata": {},
   "source": [
    "## Plotting with categorical data"
   ]
  },
  {
   "cell_type": "code",
   "execution_count": 24,
   "metadata": {},
   "outputs": [
    {
     "name": "stderr",
     "output_type": "stream",
     "text": [
      "C:\\Users\\enaysep\\Anaconda3\\lib\\site-packages\\seaborn\\_decorators.py:36: FutureWarning: Pass the following variables as keyword args: x, y. From version 0.12, the only valid positional argument will be `data`, and passing other arguments without an explicit keyword will result in an error or misinterpretation.\n",
      "  warnings.warn(\n"
     ]
    },
    {
     "data": {
      "image/png": "[encoded data removed]",
      "text/plain": [
       "<Figure size 432x288 with 1 Axes>"
      ]
     },
     "metadata": {
      "needs_background": "light"
     },
     "output_type": "display_data"
    }
   ],
   "source": [
    "sns.stripplot(df['Tournament'], df['HighestPositionHeld'], jitter=True);"
   ]
  },
  {
   "cell_type": "code",
   "execution_count": 182,
   "metadata": {},
   "outputs": [
    {
     "name": "stderr",
     "output_type": "stream",
     "text": [
      "C:\\Users\\enaysep\\Anaconda3\\lib\\site-packages\\seaborn\\_decorators.py:36: FutureWarning: Pass the following variables as keyword args: x, y. From version 0.12, the only valid positional argument will be `data`, and passing other arguments without an explicit keyword will result in an error or misinterpretation.\n",
      "  warnings.warn(\n",
      "C:\\Users\\enaysep\\Anaconda3\\lib\\site-packages\\seaborn\\categorical.py:1296: UserWarning: 16.7% of the points cannot be placed; you may want to decrease the size of the markers or use stripplot.\n",
      "  warnings.warn(msg, UserWarning)\n",
      "C:\\Users\\enaysep\\Anaconda3\\lib\\site-packages\\seaborn\\categorical.py:1296: UserWarning: 20.0% of the points cannot be placed; you may want to decrease the size of the markers or use stripplot.\n",
      "  warnings.warn(msg, UserWarning)\n",
      "C:\\Users\\enaysep\\Anaconda3\\lib\\site-packages\\seaborn\\categorical.py:1296: UserWarning: 25.0% of the points cannot be placed; you may want to decrease the size of the markers or use stripplot.\n",
      "  warnings.warn(msg, UserWarning)\n",
      "C:\\Users\\enaysep\\Anaconda3\\lib\\site-packages\\seaborn\\categorical.py:1296: UserWarning: 66.7% of the points cannot be placed; you may want to decrease the size of the markers or use stripplot.\n",
      "  warnings.warn(msg, UserWarning)\n"
     ]
    },
    {
     "data": {
      "image/png": "[encoded data removed]",
      "text/plain": [
       "<Figure size 432x288 with 1 Axes>"
      ]
     },
     "metadata": {
      "needs_background": "light"
     },
     "output_type": "display_data"
    }
   ],
   "source": [
    "sns.swarmplot(df['Tournament'], df['HighestPositionHeld']);"
   ]
  },
  {
   "cell_type": "code",
   "execution_count": 185,
   "metadata": {},
   "outputs": [
    {
     "name": "stderr",
     "output_type": "stream",
     "text": [
      "C:\\Users\\enaysep\\Anaconda3\\lib\\site-packages\\seaborn\\_decorators.py:36: FutureWarning: Pass the following variables as keyword args: x, y. From version 0.12, the only valid positional argument will be `data`, and passing other arguments without an explicit keyword will result in an error or misinterpretation.\n",
      "  warnings.warn(\n"
     ]
    },
    {
     "data": {
      "image/png": "[encoded data removed]",
      "text/plain": [
       "<Figure size 432x288 with 1 Axes>"
      ]
     },
     "metadata": {
      "needs_background": "light"
     },
     "output_type": "display_data"
    }
   ],
   "source": [
    "sns.boxplot(df['Tournament'], df['HighestPositionHeld']);"
   ]
  },
  {
   "cell_type": "code",
   "execution_count": 191,
   "metadata": {},
   "outputs": [
    {
     "name": "stderr",
     "output_type": "stream",
     "text": [
      "C:\\Users\\enaysep\\Anaconda3\\lib\\site-packages\\seaborn\\_decorators.py:36: FutureWarning: Pass the following variables as keyword args: x, y. From version 0.12, the only valid positional argument will be `data`, and passing other arguments without an explicit keyword will result in an error or misinterpretation.\n",
      "  warnings.warn(\n"
     ]
    },
    {
     "data": {
      "image/png": "[encoded data removed]",
      "text/plain": [
       "<Figure size 432x288 with 1 Axes>"
      ]
     },
     "metadata": {
      "needs_background": "light"
     },
     "output_type": "display_data"
    }
   ],
   "source": [
    "sns.boxplot(df['Tournament'], df['HighestPositionHeld'], hue=df['TournamentChampion']);"
   ]
  },
  {
   "cell_type": "code",
   "execution_count": 200,
   "metadata": {},
   "outputs": [
    {
     "data": {
      "text/plain": [
       "20"
      ]
     },
     "execution_count": 200,
     "metadata": {},
     "output_type": "execute_result"
    }
   ],
   "source": [
    "df['HighestPositionHeld'].max()"
   ]
  },
  {
   "cell_type": "code",
   "execution_count": 201,
   "metadata": {},
   "outputs": [
    {
     "data": {
      "text/html": [
       "<div>\n",
       "<style scoped>\n",
       "    .dataframe tbody tr th:only-of-type {\n",
       "        vertical-align: middle;\n",
       "    }\n",
       "\n",
       "    .dataframe tbody tr th {\n",
       "        vertical-align: top;\n",
       "    }\n",
       "\n",
       "    .dataframe thead th {\n",
       "        text-align: right;\n",
       "    }\n",
       "</style>\n",
       "<table border=\"1\" class=\"dataframe\">\n",
       "  <thead>\n",
       "    <tr style=\"text-align: right;\">\n",
       "      <th></th>\n",
       "      <th>Team</th>\n",
       "      <th>Tournament</th>\n",
       "      <th>Score</th>\n",
       "      <th>PlayedGames</th>\n",
       "      <th>WonGames</th>\n",
       "      <th>DrawnGames</th>\n",
       "      <th>LostGames</th>\n",
       "      <th>BasketScored</th>\n",
       "      <th>BasketGiven</th>\n",
       "      <th>TournamentChampion</th>\n",
       "      <th>Runner-up</th>\n",
       "      <th>TeamLaunch</th>\n",
       "      <th>HighestPositionHeld</th>\n",
       "    </tr>\n",
       "  </thead>\n",
       "  <tbody>\n",
       "    <tr>\n",
       "      <th>56</th>\n",
       "      <td>Team 57</td>\n",
       "      <td>1</td>\n",
       "      <td>34</td>\n",
       "      <td>38</td>\n",
       "      <td>8</td>\n",
       "      <td>10</td>\n",
       "      <td>20</td>\n",
       "      <td>38</td>\n",
       "      <td>66</td>\n",
       "      <td>-</td>\n",
       "      <td>-</td>\n",
       "      <td>2009-10</td>\n",
       "      <td>20</td>\n",
       "    </tr>\n",
       "  </tbody>\n",
       "</table>\n",
       "</div>"
      ],
      "text/plain": [
       "       Team  Tournament Score PlayedGames WonGames DrawnGames LostGames  \\\n",
       "56  Team 57           1    34          38        8         10        20   \n",
       "\n",
       "   BasketScored BasketGiven TournamentChampion Runner-up TeamLaunch  \\\n",
       "56           38          66                  -         -    2009-10   \n",
       "\n",
       "    HighestPositionHeld  \n",
       "56                   20  "
      ]
     },
     "execution_count": 201,
     "metadata": {},
     "output_type": "execute_result"
    }
   ],
   "source": [
    "df[df['HighestPositionHeld']==20]"
   ]
  },
  {
   "cell_type": "code",
   "execution_count": 203,
   "metadata": {},
   "outputs": [
    {
     "data": {
      "text/plain": [
       "1"
      ]
     },
     "execution_count": 203,
     "metadata": {},
     "output_type": "execute_result"
    }
   ],
   "source": [
    "df['HighestPositionHeld'].min()"
   ]
  },
  {
   "cell_type": "code",
   "execution_count": 204,
   "metadata": {},
   "outputs": [
    {
     "data": {
      "text/html": [
       "<div>\n",
       "<style scoped>\n",
       "    .dataframe tbody tr th:only-of-type {\n",
       "        vertical-align: middle;\n",
       "    }\n",
       "\n",
       "    .dataframe tbody tr th {\n",
       "        vertical-align: top;\n",
       "    }\n",
       "\n",
       "    .dataframe thead th {\n",
       "        text-align: right;\n",
       "    }\n",
       "</style>\n",
       "<table border=\"1\" class=\"dataframe\">\n",
       "  <thead>\n",
       "    <tr style=\"text-align: right;\">\n",
       "      <th></th>\n",
       "      <th>Team</th>\n",
       "      <th>Tournament</th>\n",
       "      <th>Score</th>\n",
       "      <th>PlayedGames</th>\n",
       "      <th>WonGames</th>\n",
       "      <th>DrawnGames</th>\n",
       "      <th>LostGames</th>\n",
       "      <th>BasketScored</th>\n",
       "      <th>BasketGiven</th>\n",
       "      <th>TournamentChampion</th>\n",
       "      <th>Runner-up</th>\n",
       "      <th>TeamLaunch</th>\n",
       "      <th>HighestPositionHeld</th>\n",
       "    </tr>\n",
       "  </thead>\n",
       "  <tbody>\n",
       "    <tr>\n",
       "      <th>0</th>\n",
       "      <td>Team 1</td>\n",
       "      <td>86</td>\n",
       "      <td>4385</td>\n",
       "      <td>2762</td>\n",
       "      <td>1647</td>\n",
       "      <td>552</td>\n",
       "      <td>563</td>\n",
       "      <td>5947</td>\n",
       "      <td>3140</td>\n",
       "      <td>33</td>\n",
       "      <td>23</td>\n",
       "      <td>1929</td>\n",
       "      <td>1</td>\n",
       "    </tr>\n",
       "    <tr>\n",
       "      <th>1</th>\n",
       "      <td>Team 2</td>\n",
       "      <td>86</td>\n",
       "      <td>4262</td>\n",
       "      <td>2762</td>\n",
       "      <td>1581</td>\n",
       "      <td>573</td>\n",
       "      <td>608</td>\n",
       "      <td>5900</td>\n",
       "      <td>3114</td>\n",
       "      <td>25</td>\n",
       "      <td>25</td>\n",
       "      <td>1929</td>\n",
       "      <td>1</td>\n",
       "    </tr>\n",
       "    <tr>\n",
       "      <th>2</th>\n",
       "      <td>Team 3</td>\n",
       "      <td>80</td>\n",
       "      <td>3442</td>\n",
       "      <td>2614</td>\n",
       "      <td>1241</td>\n",
       "      <td>598</td>\n",
       "      <td>775</td>\n",
       "      <td>4534</td>\n",
       "      <td>3309</td>\n",
       "      <td>10</td>\n",
       "      <td>8</td>\n",
       "      <td>1929</td>\n",
       "      <td>1</td>\n",
       "    </tr>\n",
       "    <tr>\n",
       "      <th>3</th>\n",
       "      <td>Team 4</td>\n",
       "      <td>82</td>\n",
       "      <td>3386</td>\n",
       "      <td>2664</td>\n",
       "      <td>1187</td>\n",
       "      <td>616</td>\n",
       "      <td>861</td>\n",
       "      <td>4398</td>\n",
       "      <td>3469</td>\n",
       "      <td>6</td>\n",
       "      <td>6</td>\n",
       "      <td>1931to32</td>\n",
       "      <td>1</td>\n",
       "    </tr>\n",
       "    <tr>\n",
       "      <th>4</th>\n",
       "      <td>Team 5</td>\n",
       "      <td>86</td>\n",
       "      <td>3368</td>\n",
       "      <td>2762</td>\n",
       "      <td>1209</td>\n",
       "      <td>633</td>\n",
       "      <td>920</td>\n",
       "      <td>4631</td>\n",
       "      <td>3700</td>\n",
       "      <td>8</td>\n",
       "      <td>7</td>\n",
       "      <td>1929</td>\n",
       "      <td>1</td>\n",
       "    </tr>\n",
       "    <tr>\n",
       "      <th>5</th>\n",
       "      <td>Team 6</td>\n",
       "      <td>73</td>\n",
       "      <td>2819</td>\n",
       "      <td>2408</td>\n",
       "      <td>990</td>\n",
       "      <td>531</td>\n",
       "      <td>887</td>\n",
       "      <td>3680</td>\n",
       "      <td>3373</td>\n",
       "      <td>1</td>\n",
       "      <td>4</td>\n",
       "      <td>1934-35</td>\n",
       "      <td>1</td>\n",
       "    </tr>\n",
       "    <tr>\n",
       "      <th>7</th>\n",
       "      <td>Team 8</td>\n",
       "      <td>70</td>\n",
       "      <td>2573</td>\n",
       "      <td>2302</td>\n",
       "      <td>864</td>\n",
       "      <td>577</td>\n",
       "      <td>861</td>\n",
       "      <td>3228</td>\n",
       "      <td>3230</td>\n",
       "      <td>2</td>\n",
       "      <td>3</td>\n",
       "      <td>1929</td>\n",
       "      <td>1</td>\n",
       "    </tr>\n",
       "    <tr>\n",
       "      <th>9</th>\n",
       "      <td>Team 10</td>\n",
       "      <td>51</td>\n",
       "      <td>1884</td>\n",
       "      <td>1728</td>\n",
       "      <td>606</td>\n",
       "      <td>440</td>\n",
       "      <td>682</td>\n",
       "      <td>2159</td>\n",
       "      <td>2492</td>\n",
       "      <td>1</td>\n",
       "      <td>-</td>\n",
       "      <td>1932-33</td>\n",
       "      <td>1</td>\n",
       "    </tr>\n",
       "    <tr>\n",
       "      <th>10</th>\n",
       "      <td>Team 11</td>\n",
       "      <td>45</td>\n",
       "      <td>1814</td>\n",
       "      <td>1530</td>\n",
       "      <td>563</td>\n",
       "      <td>392</td>\n",
       "      <td>575</td>\n",
       "      <td>2052</td>\n",
       "      <td>2188</td>\n",
       "      <td>1</td>\n",
       "      <td>5</td>\n",
       "      <td>1941to42</td>\n",
       "      <td>1</td>\n",
       "    </tr>\n",
       "  </tbody>\n",
       "</table>\n",
       "</div>"
      ],
      "text/plain": [
       "       Team  Tournament Score PlayedGames WonGames DrawnGames LostGames  \\\n",
       "0    Team 1          86  4385        2762     1647        552       563   \n",
       "1    Team 2          86  4262        2762     1581        573       608   \n",
       "2    Team 3          80  3442        2614     1241        598       775   \n",
       "3    Team 4          82  3386        2664     1187        616       861   \n",
       "4    Team 5          86  3368        2762     1209        633       920   \n",
       "5    Team 6          73  2819        2408      990        531       887   \n",
       "7    Team 8          70  2573        2302      864        577       861   \n",
       "9   Team 10          51  1884        1728      606        440       682   \n",
       "10  Team 11          45  1814        1530      563        392       575   \n",
       "\n",
       "   BasketScored BasketGiven TournamentChampion Runner-up TeamLaunch  \\\n",
       "0          5947        3140                 33        23       1929   \n",
       "1          5900        3114                 25        25       1929   \n",
       "2          4534        3309                 10         8       1929   \n",
       "3          4398        3469                  6         6   1931to32   \n",
       "4          4631        3700                  8         7       1929   \n",
       "5          3680        3373                  1         4    1934-35   \n",
       "7          3228        3230                  2         3       1929   \n",
       "9          2159        2492                  1         -    1932-33   \n",
       "10         2052        2188                  1         5   1941to42   \n",
       "\n",
       "    HighestPositionHeld  \n",
       "0                     1  \n",
       "1                     1  \n",
       "2                     1  \n",
       "3                     1  \n",
       "4                     1  \n",
       "5                     1  \n",
       "7                     1  \n",
       "9                     1  \n",
       "10                    1  "
      ]
     },
     "execution_count": 204,
     "metadata": {},
     "output_type": "execute_result"
    }
   ],
   "source": [
    "df[df['HighestPositionHeld']==1]"
   ]
  },
  {
   "cell_type": "code",
   "execution_count": 69,
   "metadata": {},
   "outputs": [
    {
     "data": {
      "text/plain": [
       "array([[<AxesSubplot:title={'center':'Tournament'}>,\n",
       "        <AxesSubplot:title={'center':'HighestPositionHeld'}>]],\n",
       "      dtype=object)"
      ]
     },
     "execution_count": 69,
     "metadata": {},
     "output_type": "execute_result"
    },
    {
     "data": {
      "image/png": "[encoded data removed]",
      "text/plain": [
       "<Figure size 1440x504 with 2 Axes>"
      ]
     },
     "metadata": {
      "needs_background": "light"
     },
     "output_type": "display_data"
    }
   ],
   "source": [
    "df.hist(figsize=(20,7))"
   ]
  },
  {
   "cell_type": "code",
   "execution_count": 58,
   "metadata": {},
   "outputs": [
    {
     "name": "stderr",
     "output_type": "stream",
     "text": [
      "C:\\Users\\enaysep\\Anaconda3\\lib\\site-packages\\seaborn\\_decorators.py:36: FutureWarning: Pass the following variable as a keyword arg: x. From version 0.12, the only valid positional argument will be `data`, and passing other arguments without an explicit keyword will result in an error or misinterpretation.\n",
      "  warnings.warn(\n"
     ]
    },
    {
     "data": {
      "image/png": "[encoded data removed]",
      "text/plain": [
       "<Figure size 432x288 with 1 Axes>"
      ]
     },
     "metadata": {
      "needs_background": "light"
     },
     "output_type": "display_data"
    }
   ],
   "source": [
    "sns.boxplot(df.Tournament,data=df)\n",
    "plt.show()"
   ]
  },
  {
   "cell_type": "code",
   "execution_count": 59,
   "metadata": {},
   "outputs": [
    {
     "data": {
      "image/png": "[encoded data removed]",
      "text/plain": [
       "<Figure size 360x360 with 6 Axes>"
      ]
     },
     "metadata": {
      "needs_background": "light"
     },
     "output_type": "display_data"
    }
   ],
   "source": [
    "# Let us visualize the data for relation between variables\n",
    "sns.pairplot(df);"
   ]
  },
  {
   "cell_type": "code",
   "execution_count": 87,
   "metadata": {},
   "outputs": [
    {
     "data": {
      "image/png": "[encoded data removed]",
      "text/plain": [
       "<Figure size 720x360 with 2 Axes>"
      ]
     },
     "metadata": {
      "needs_background": "light"
     },
     "output_type": "display_data"
    }
   ],
   "source": [
    "# Let's draw a heatmap for better understanding of correlation between variables in the data\n",
    "plt.figure(figsize=(10,5));\n",
    "sns.heatmap(df.corr(),annot=True, cmap=\"Blues\");"
   ]
  },
  {
   "cell_type": "code",
   "execution_count": 70,
   "metadata": {},
   "outputs": [
    {
     "data": {
      "text/html": [
       "<div>\n",
       "<style scoped>\n",
       "    .dataframe tbody tr th:only-of-type {\n",
       "        vertical-align: middle;\n",
       "    }\n",
       "\n",
       "    .dataframe tbody tr th {\n",
       "        vertical-align: top;\n",
       "    }\n",
       "\n",
       "    .dataframe thead th {\n",
       "        text-align: right;\n",
       "    }\n",
       "</style>\n",
       "<table border=\"1\" class=\"dataframe\">\n",
       "  <thead>\n",
       "    <tr style=\"text-align: right;\">\n",
       "      <th></th>\n",
       "      <th>Tournament</th>\n",
       "      <th>HighestPositionHeld</th>\n",
       "    </tr>\n",
       "  </thead>\n",
       "  <tbody>\n",
       "    <tr>\n",
       "      <th>Tournament</th>\n",
       "      <td>1.000000</td>\n",
       "      <td>-0.708071</td>\n",
       "    </tr>\n",
       "    <tr>\n",
       "      <th>HighestPositionHeld</th>\n",
       "      <td>-0.708071</td>\n",
       "      <td>1.000000</td>\n",
       "    </tr>\n",
       "  </tbody>\n",
       "</table>\n",
       "</div>"
      ],
      "text/plain": [
       "                     Tournament  HighestPositionHeld\n",
       "Tournament             1.000000            -0.708071\n",
       "HighestPositionHeld   -0.708071             1.000000"
      ]
     },
     "execution_count": 70,
     "metadata": {},
     "output_type": "execute_result"
    }
   ],
   "source": [
    "df.corr()"
   ]
  },
  {
   "cell_type": "code",
   "execution_count": 82,
   "metadata": {},
   "outputs": [
    {
     "data": {
      "text/plain": [
       "<AxesSubplot:xlabel='TournamentChampion', ylabel='count'>"
      ]
     },
     "execution_count": 82,
     "metadata": {},
     "output_type": "execute_result"
    },
    {
     "data": {
      "image/png": "[encoded data removed]",
      "text/plain": [
       "<Figure size 432x288 with 1 Axes>"
      ]
     },
     "metadata": {
      "needs_background": "light"
     },
     "output_type": "display_data"
    }
   ],
   "source": [
    "sns.countplot(x=\"TournamentChampion\", data=df)"
   ]
  },
  {
   "cell_type": "markdown",
   "metadata": {},
   "source": [
    "# Part III"
   ]
  },
  {
   "cell_type": "raw",
   "metadata": {},
   "source": [
    "DOMAIN: Startup ecosystem\n",
    "    \n",
    "• CONTEXT: Company X is a EU online publisher focusing on the startups industry. The company specifically reports on the business related to\n",
    "technology news, analysis of emerging trends and profiling of new tech businesses and products. Their event i.e. Startup Battlefield is the\n",
    "world’s pre-eminent startup competition. Startup Battlefield features 15-30 top early stage startups pitching top judges in front of a vast live\n",
    "audience, present in person and online.\n",
    "\n",
    "• DATA DESCRIPTION: CompanyX_EU.csv - Each row in the dataset is a Start-up company and the columns describe the company. ATTRIBUTE\n",
    "INFORMATION:\n",
    "    \n",
    "1. Startup: Name of the company\n",
    "2. Product: Actual product\n",
    "3. Funding: Funds raised by the company in USD\n",
    "4. Event: The event the company participated in\n",
    "5. Result: Described by Contestant, Finalist, Audience choice, Winner or Runner up\n",
    "6. OperatingState: Current status of the company, Operating ,Closed, Acquired or IPO\n",
    "*Dataset has been downloaded from the internet. All the credit for the dataset goes to the original creator of the data.\n",
    "\n",
    "• PROJECT OBJECTIVE: Analyse the data of the various companies from the given dataset and perform the tasks that are specified in the\n",
    "below steps. Draw insights from the various attributes that are present in the dataset, plot distributions, state hypotheses and draw\n",
    "conclusions from the dataset.\n",
    "\n",
    "Steps and tasks:\n",
    "1. Data warehouse:\n",
    "• Read the CSV file.\n",
    "2. Data exploration:\n",
    "• Check the datatypes of each attribute.\n",
    "• Check for null values in the attributes.\n",
    "3. Data preprocessing & visualisation:\n",
    "• Drop the null values.\n",
    "• Convert the ‘Funding’ features to a numerical value.\n",
    "• Plot box plot for funds in million.\n",
    "• Get the lower fence from the box plot.\n",
    "• Check number of outliers greater than upper fence.\n",
    "• Drop the values that are greater than upper fence.\n",
    "• Plot the box plot after dropping the values.\n",
    "• Check frequency of the OperatingState features classes.\n",
    "• Plot a distribution plot for Funds in million.\n",
    "• Plot distribution plots for companies still operating and companies that closed.\n",
    "4. Statistical analysis:\n",
    "• Is there any significant difference between Funds raised by companies that are still operating vs companies that closed down?\n",
    "Write the null hypothesis and alternative hypothesis.\n",
    "Test for significance and conclusion\n",
    "• Make a copy of the original data frame.\n",
    "• Check frequency distribution of Result variable.\n",
    "• Calculate percentage of winners that are still operating and percentage of contestants that are still operating\n",
    "• Write your hypothesis comparing the proportion of companies that are operating between winners and contestants:\n",
    "Write the null hypothesis and alternative hypothesis.\n",
    "Test for significance and conclusion\n",
    "• Check distribution of the Event variable.\n",
    "• Select only the Event that has disrupt keyword from 2013 onwards.\n",
    "• Write and perform your hypothesis along with significance test comparing the funds raised by companies across NY, SF and EU events from\n",
    "2013 onwards.\n",
    "• Plot the distribution plot comparing the 3 city events.\n",
    "5. Write your observations on improvements or suggestions on quality, quantity, variety, velocity, veracity etc. on the data points collected to perform\n",
    "a better data analysis."
   ]
  },
  {
   "cell_type": "markdown",
   "metadata": {},
   "source": [
    "# Import the dataset"
   ]
  },
  {
   "cell_type": "code",
   "execution_count": 218,
   "metadata": {},
   "outputs": [
    {
     "name": "stdout",
     "output_type": "stream",
     "text": [
      "(662, 6)\n"
     ]
    },
    {
     "data": {
      "text/html": [
       "<div>\n",
       "<style scoped>\n",
       "    .dataframe tbody tr th:only-of-type {\n",
       "        vertical-align: middle;\n",
       "    }\n",
       "\n",
       "    .dataframe tbody tr th {\n",
       "        vertical-align: top;\n",
       "    }\n",
       "\n",
       "    .dataframe thead th {\n",
       "        text-align: right;\n",
       "    }\n",
       "</style>\n",
       "<table border=\"1\" class=\"dataframe\">\n",
       "  <thead>\n",
       "    <tr style=\"text-align: right;\">\n",
       "      <th></th>\n",
       "      <th>Startup</th>\n",
       "      <th>Product</th>\n",
       "      <th>Funding</th>\n",
       "      <th>Event</th>\n",
       "      <th>Result</th>\n",
       "      <th>OperatingState</th>\n",
       "    </tr>\n",
       "  </thead>\n",
       "  <tbody>\n",
       "    <tr>\n",
       "      <th>0</th>\n",
       "      <td>2600Hz</td>\n",
       "      <td>2600hz.com</td>\n",
       "      <td>NaN</td>\n",
       "      <td>Disrupt SF 2013</td>\n",
       "      <td>Contestant</td>\n",
       "      <td>Operating</td>\n",
       "    </tr>\n",
       "    <tr>\n",
       "      <th>1</th>\n",
       "      <td>3DLT</td>\n",
       "      <td>3dlt.com</td>\n",
       "      <td>$630K</td>\n",
       "      <td>Disrupt NYC 2013</td>\n",
       "      <td>Contestant</td>\n",
       "      <td>Closed</td>\n",
       "    </tr>\n",
       "    <tr>\n",
       "      <th>2</th>\n",
       "      <td>3DPrinterOS</td>\n",
       "      <td>3dprinteros.com</td>\n",
       "      <td>NaN</td>\n",
       "      <td>Disrupt SF 2016</td>\n",
       "      <td>Contestant</td>\n",
       "      <td>Operating</td>\n",
       "    </tr>\n",
       "    <tr>\n",
       "      <th>3</th>\n",
       "      <td>3Dprintler</td>\n",
       "      <td>3dprintler.com</td>\n",
       "      <td>$1M</td>\n",
       "      <td>Disrupt NY 2016</td>\n",
       "      <td>Audience choice</td>\n",
       "      <td>Operating</td>\n",
       "    </tr>\n",
       "    <tr>\n",
       "      <th>4</th>\n",
       "      <td>42 Technologies</td>\n",
       "      <td>42technologies.com</td>\n",
       "      <td>NaN</td>\n",
       "      <td>Disrupt NYC 2013</td>\n",
       "      <td>Contestant</td>\n",
       "      <td>Operating</td>\n",
       "    </tr>\n",
       "  </tbody>\n",
       "</table>\n",
       "</div>"
      ],
      "text/plain": [
       "           Startup             Product Funding             Event  \\\n",
       "0           2600Hz          2600hz.com     NaN   Disrupt SF 2013   \n",
       "1             3DLT            3dlt.com   $630K  Disrupt NYC 2013   \n",
       "2      3DPrinterOS     3dprinteros.com     NaN   Disrupt SF 2016   \n",
       "3       3Dprintler      3dprintler.com     $1M   Disrupt NY 2016   \n",
       "4  42 Technologies  42technologies.com     NaN  Disrupt NYC 2013   \n",
       "\n",
       "            Result OperatingState  \n",
       "0       Contestant      Operating  \n",
       "1       Contestant         Closed  \n",
       "2       Contestant      Operating  \n",
       "3  Audience choice      Operating  \n",
       "4       Contestant      Operating  "
      ]
     },
     "execution_count": 218,
     "metadata": {},
     "output_type": "execute_result"
    }
   ],
   "source": [
    "#1. Data warehouse: • Read the CSV file\n",
    "\n",
    "import pandas as pd\n",
    "\n",
    "data = pd.read_csv('CompanyX_EU.csv')\n",
    "print(data.shape)\n",
    "data.head()"
   ]
  },
  {
   "cell_type": "markdown",
   "metadata": {},
   "source": [
    "# Explore the data"
   ]
  },
  {
   "cell_type": "code",
   "execution_count": 219,
   "metadata": {},
   "outputs": [
    {
     "data": {
      "text/plain": [
       "Startup           object\n",
       "Product           object\n",
       "Funding           object\n",
       "Event             object\n",
       "Result            object\n",
       "OperatingState    object\n",
       "dtype: object"
      ]
     },
     "execution_count": 219,
     "metadata": {},
     "output_type": "execute_result"
    }
   ],
   "source": [
    "#2. Data exploration:\n",
    "#• Check the datatypes of each attribute.\n",
    "\n",
    "data.dtypes"
   ]
  },
  {
   "cell_type": "markdown",
   "metadata": {},
   "source": [
    "- All the columns are of object type "
   ]
  },
  {
   "cell_type": "code",
   "execution_count": 221,
   "metadata": {},
   "outputs": [
    {
     "data": {
      "text/plain": [
       "Startup             0\n",
       "Product             6\n",
       "Funding           214\n",
       "Event               0\n",
       "Result              0\n",
       "OperatingState      0\n",
       "dtype: int64"
      ]
     },
     "execution_count": 221,
     "metadata": {},
     "output_type": "execute_result"
    }
   ],
   "source": [
    "#• Check for null values in the attributes.\n",
    "\n",
    "data.isna().sum()"
   ]
  },
  {
   "cell_type": "markdown",
   "metadata": {},
   "source": [
    "- Turns out we do not have data of Funding by all the companies\n",
    "- We would need need it to perform the first task, hence we will have to ignore the companies of which we do not have data for the funds they raised"
   ]
  },
  {
   "cell_type": "code",
   "execution_count": 222,
   "metadata": {},
   "outputs": [],
   "source": [
    "df1 = data.dropna().copy(deep=True)   # drop the rows which have no data for funding"
   ]
  },
  {
   "cell_type": "code",
   "execution_count": 223,
   "metadata": {},
   "outputs": [
    {
     "data": {
      "text/plain": [
       "149     $5.4M\n",
       "374    $13.2M\n",
       "486      $18M\n",
       "659     $223M\n",
       "209     $103M\n",
       "Name: Funding, dtype: object"
      ]
     },
     "execution_count": 223,
     "metadata": {},
     "output_type": "execute_result"
    }
   ],
   "source": [
    "df1['Funding'].sample(5)"
   ]
  },
  {
   "cell_type": "code",
   "execution_count": 224,
   "metadata": {},
   "outputs": [],
   "source": [
    "df1.loc[:,'Funds_in_million'] = df1['Funding'].apply(lambda x: float(x[1:-1])/1000 if x[-1] == 'K' else (float(x[1:-1])*1000 if x[-1] == 'B' else float(x[1:-1])))"
   ]
  },
  {
   "cell_type": "markdown",
   "metadata": {},
   "source": [
    "**Code Explanation:**\n",
    "Within the lambda function, we passed two if else blocks. If the last element in the value is 'K', then divide the number by 1000 else, if it is 'B', multiply by 1000 else, return as it is. We passed this lambda function to the apply method which we used on the 'Funding' column and assigned the result to a new column ('funds_in_million') in the dataframe"
   ]
  },
  {
   "cell_type": "code",
   "execution_count": 230,
   "metadata": {},
   "outputs": [
    {
     "data": {
      "text/html": [
       "<div>\n",
       "<style scoped>\n",
       "    .dataframe tbody tr th:only-of-type {\n",
       "        vertical-align: middle;\n",
       "    }\n",
       "\n",
       "    .dataframe tbody tr th {\n",
       "        vertical-align: top;\n",
       "    }\n",
       "\n",
       "    .dataframe thead th {\n",
       "        text-align: right;\n",
       "    }\n",
       "</style>\n",
       "<table border=\"1\" class=\"dataframe\">\n",
       "  <thead>\n",
       "    <tr style=\"text-align: right;\">\n",
       "      <th></th>\n",
       "      <th>Startup</th>\n",
       "      <th>Product</th>\n",
       "      <th>Funding</th>\n",
       "      <th>Event</th>\n",
       "      <th>Result</th>\n",
       "      <th>OperatingState</th>\n",
       "      <th>Funds_in_million</th>\n",
       "    </tr>\n",
       "  </thead>\n",
       "  <tbody>\n",
       "    <tr>\n",
       "      <th>419</th>\n",
       "      <td>PlaceAVote.com</td>\n",
       "      <td>placeavote.com</td>\n",
       "      <td>$500K</td>\n",
       "      <td>Disrupt NY 2016</td>\n",
       "      <td>Contestant</td>\n",
       "      <td>Operating</td>\n",
       "      <td>0.500</td>\n",
       "    </tr>\n",
       "    <tr>\n",
       "      <th>659</th>\n",
       "      <td>Zocdoc</td>\n",
       "      <td>zocdoc.com</td>\n",
       "      <td>$223M</td>\n",
       "      <td>TC40 2007</td>\n",
       "      <td>Contestant</td>\n",
       "      <td>Operating</td>\n",
       "      <td>223.000</td>\n",
       "    </tr>\n",
       "    <tr>\n",
       "      <th>262</th>\n",
       "      <td>INRFOOD</td>\n",
       "      <td>inrfood.com</td>\n",
       "      <td>$457K</td>\n",
       "      <td>Disrupt SF 2012</td>\n",
       "      <td>Contestant</td>\n",
       "      <td>Operating</td>\n",
       "      <td>0.457</td>\n",
       "    </tr>\n",
       "  </tbody>\n",
       "</table>\n",
       "</div>"
      ],
      "text/plain": [
       "            Startup         Product Funding            Event      Result  \\\n",
       "419  PlaceAVote.com  placeavote.com   $500K  Disrupt NY 2016  Contestant   \n",
       "659          Zocdoc      zocdoc.com   $223M        TC40 2007  Contestant   \n",
       "262         INRFOOD     inrfood.com   $457K  Disrupt SF 2012  Contestant   \n",
       "\n",
       "    OperatingState  Funds_in_million  \n",
       "419      Operating             0.500  \n",
       "659      Operating           223.000  \n",
       "262      Operating             0.457  "
      ]
     },
     "execution_count": 230,
     "metadata": {},
     "output_type": "execute_result"
    }
   ],
   "source": [
    "df1.sample(3)"
   ]
  },
  {
   "cell_type": "markdown",
   "metadata": {},
   "source": [
    "### Task 1"
   ]
  },
  {
   "cell_type": "code",
   "execution_count": 231,
   "metadata": {},
   "outputs": [
    {
     "data": {
      "image/png": "[encoded data removed]",
      "text/plain": [
       "<Figure size 432x288 with 1 Axes>"
      ]
     },
     "metadata": {
      "needs_background": "light"
     },
     "output_type": "display_data"
    }
   ],
   "source": [
    "%matplotlib inline\n",
    "from matplotlib import pyplot as plt\n",
    "\n",
    "plot = plt.boxplot(df1.Funds_in_million)\n",
    "plt.title('Boxplot of the funds')\n",
    "plt.ylabel(\"Funding (in Million)\")\n",
    "\n",
    "plt.show()"
   ]
  },
  {
   "cell_type": "markdown",
   "metadata": {},
   "source": [
    "- There are significant outliers in the data\n",
    "- For the purpose of this test, we shall remove them"
   ]
  },
  {
   "cell_type": "code",
   "execution_count": 232,
   "metadata": {},
   "outputs": [
    {
     "data": {
      "text/plain": [
       "22.0"
      ]
     },
     "execution_count": 232,
     "metadata": {},
     "output_type": "execute_result"
    }
   ],
   "source": [
    "upper_fence = plot['caps'][1].get_data()[1][1]   # we can use the values from the box plot itself to get the upper fence\n",
    "upper_fence"
   ]
  },
  {
   "cell_type": "code",
   "execution_count": 235,
   "metadata": {},
   "outputs": [
    {
     "name": "stdout",
     "output_type": "stream",
     "text": [
      "Number of outliers = 60\n"
     ]
    },
    {
     "data": {
      "text/html": [
       "<div>\n",
       "<style scoped>\n",
       "    .dataframe tbody tr th:only-of-type {\n",
       "        vertical-align: middle;\n",
       "    }\n",
       "\n",
       "    .dataframe tbody tr th {\n",
       "        vertical-align: top;\n",
       "    }\n",
       "\n",
       "    .dataframe thead th {\n",
       "        text-align: right;\n",
       "    }\n",
       "</style>\n",
       "<table border=\"1\" class=\"dataframe\">\n",
       "  <thead>\n",
       "    <tr style=\"text-align: right;\">\n",
       "      <th></th>\n",
       "      <th>Startup</th>\n",
       "      <th>Product</th>\n",
       "      <th>Funding</th>\n",
       "      <th>Event</th>\n",
       "      <th>Result</th>\n",
       "      <th>OperatingState</th>\n",
       "      <th>Funds_in_million</th>\n",
       "    </tr>\n",
       "  </thead>\n",
       "  <tbody>\n",
       "    <tr>\n",
       "      <th>6</th>\n",
       "      <td>8 Securities</td>\n",
       "      <td>8securities.com</td>\n",
       "      <td>$29M</td>\n",
       "      <td>Disrupt Beijing 2011</td>\n",
       "      <td>Finalist</td>\n",
       "      <td>Operating</td>\n",
       "      <td>29.0</td>\n",
       "    </tr>\n",
       "    <tr>\n",
       "      <th>31</th>\n",
       "      <td>Anyclip</td>\n",
       "      <td>anyclip.com</td>\n",
       "      <td>$24M</td>\n",
       "      <td>TC50 2009</td>\n",
       "      <td>Finalist</td>\n",
       "      <td>Operating</td>\n",
       "      <td>24.0</td>\n",
       "    </tr>\n",
       "    <tr>\n",
       "      <th>40</th>\n",
       "      <td>Artsy</td>\n",
       "      <td>artsy.net</td>\n",
       "      <td>$50.9M</td>\n",
       "      <td>Disrupt NYC 2010</td>\n",
       "      <td>Contestant</td>\n",
       "      <td>Operating</td>\n",
       "      <td>50.9</td>\n",
       "    </tr>\n",
       "    <tr>\n",
       "      <th>49</th>\n",
       "      <td>Badgeville</td>\n",
       "      <td>badgeville.com</td>\n",
       "      <td>$40M</td>\n",
       "      <td>Disrupt SF 2010</td>\n",
       "      <td>Finalist</td>\n",
       "      <td>Acquired</td>\n",
       "      <td>40.0</td>\n",
       "    </tr>\n",
       "    <tr>\n",
       "      <th>56</th>\n",
       "      <td>Betterment</td>\n",
       "      <td>betterment.com</td>\n",
       "      <td>$205M</td>\n",
       "      <td>Disrupt NYC 2010</td>\n",
       "      <td>Finalist</td>\n",
       "      <td>Operating</td>\n",
       "      <td>205.0</td>\n",
       "    </tr>\n",
       "    <tr>\n",
       "      <th>108</th>\n",
       "      <td>Clickable</td>\n",
       "      <td>clickable.com</td>\n",
       "      <td>$32.5M</td>\n",
       "      <td>TC40 2007</td>\n",
       "      <td>Finalist</td>\n",
       "      <td>Acquired</td>\n",
       "      <td>32.5</td>\n",
       "    </tr>\n",
       "    <tr>\n",
       "      <th>113</th>\n",
       "      <td>Cloudflare</td>\n",
       "      <td>cloudflare.com</td>\n",
       "      <td>$182.1M</td>\n",
       "      <td>Disrupt SF 2010</td>\n",
       "      <td>Runner up</td>\n",
       "      <td>Operating</td>\n",
       "      <td>182.1</td>\n",
       "    </tr>\n",
       "    <tr>\n",
       "      <th>128</th>\n",
       "      <td>Credit Sesame</td>\n",
       "      <td>creditsesame.com</td>\n",
       "      <td>$35.4M</td>\n",
       "      <td>Disrupt SF 2010</td>\n",
       "      <td>Contestant</td>\n",
       "      <td>Operating</td>\n",
       "      <td>35.4</td>\n",
       "    </tr>\n",
       "    <tr>\n",
       "      <th>130</th>\n",
       "      <td>CrowdFlower Inc.</td>\n",
       "      <td>crowdflower.com</td>\n",
       "      <td>$38M</td>\n",
       "      <td>TC50 2009</td>\n",
       "      <td>Contestant</td>\n",
       "      <td>Operating</td>\n",
       "      <td>38.0</td>\n",
       "    </tr>\n",
       "    <tr>\n",
       "      <th>132</th>\n",
       "      <td>Cubic Telecom</td>\n",
       "      <td>cubictelecom.com</td>\n",
       "      <td>$37.1M</td>\n",
       "      <td>TC40 2007</td>\n",
       "      <td>Contestant</td>\n",
       "      <td>Operating</td>\n",
       "      <td>37.1</td>\n",
       "    </tr>\n",
       "    <tr>\n",
       "      <th>138</th>\n",
       "      <td>DataSift</td>\n",
       "      <td>datasift.com</td>\n",
       "      <td>$72M</td>\n",
       "      <td>Disrupt SF 2010</td>\n",
       "      <td>Finalist</td>\n",
       "      <td>Operating</td>\n",
       "      <td>72.0</td>\n",
       "    </tr>\n",
       "    <tr>\n",
       "      <th>139</th>\n",
       "      <td>DataXu</td>\n",
       "      <td>dataxu.com</td>\n",
       "      <td>$64M</td>\n",
       "      <td>TC50 2009</td>\n",
       "      <td>Contestant</td>\n",
       "      <td>Operating</td>\n",
       "      <td>64.0</td>\n",
       "    </tr>\n",
       "    <tr>\n",
       "      <th>154</th>\n",
       "      <td>Dropbox</td>\n",
       "      <td>dropbox.com</td>\n",
       "      <td>$1.7B</td>\n",
       "      <td>TC50 2008</td>\n",
       "      <td>Contestant</td>\n",
       "      <td>Operating</td>\n",
       "      <td>1700.0</td>\n",
       "    </tr>\n",
       "    <tr>\n",
       "      <th>166</th>\n",
       "      <td>Enigma</td>\n",
       "      <td>enigma.io</td>\n",
       "      <td>$34.6M</td>\n",
       "      <td>Disrupt NYC 2013</td>\n",
       "      <td>Winner</td>\n",
       "      <td>Operating</td>\n",
       "      <td>34.6</td>\n",
       "    </tr>\n",
       "    <tr>\n",
       "      <th>172</th>\n",
       "      <td>EverythingMe</td>\n",
       "      <td>everything.me</td>\n",
       "      <td>$35.5M</td>\n",
       "      <td>Disrupt NYC 2011</td>\n",
       "      <td>Contestant</td>\n",
       "      <td>Closed</td>\n",
       "      <td>35.5</td>\n",
       "    </tr>\n",
       "    <tr>\n",
       "      <th>179</th>\n",
       "      <td>Famo.us</td>\n",
       "      <td>famo.us</td>\n",
       "      <td>$30.1M</td>\n",
       "      <td>Disrupt SF 2012</td>\n",
       "      <td>Contestant</td>\n",
       "      <td>Operating</td>\n",
       "      <td>30.1</td>\n",
       "    </tr>\n",
       "    <tr>\n",
       "      <th>180</th>\n",
       "      <td>Farmigo</td>\n",
       "      <td>farmigo.com</td>\n",
       "      <td>$26M</td>\n",
       "      <td>Disrupt SF 2011</td>\n",
       "      <td>Finalist</td>\n",
       "      <td>Operating</td>\n",
       "      <td>26.0</td>\n",
       "    </tr>\n",
       "    <tr>\n",
       "      <th>188</th>\n",
       "      <td>Fitbit</td>\n",
       "      <td>fitbit.com</td>\n",
       "      <td>$66M</td>\n",
       "      <td>TC50 2008</td>\n",
       "      <td>Finalist</td>\n",
       "      <td>Ipo</td>\n",
       "      <td>66.0</td>\n",
       "    </tr>\n",
       "    <tr>\n",
       "      <th>191</th>\n",
       "      <td>Flock</td>\n",
       "      <td>flock.com</td>\n",
       "      <td>$28.3M</td>\n",
       "      <td>TC40 2007</td>\n",
       "      <td>Contestant</td>\n",
       "      <td>Acquired</td>\n",
       "      <td>28.3</td>\n",
       "    </tr>\n",
       "    <tr>\n",
       "      <th>209</th>\n",
       "      <td>Getaround</td>\n",
       "      <td>getaround.com</td>\n",
       "      <td>$103M</td>\n",
       "      <td>Disrupt NYC 2011</td>\n",
       "      <td>Winner</td>\n",
       "      <td>Operating</td>\n",
       "      <td>103.0</td>\n",
       "    </tr>\n",
       "    <tr>\n",
       "      <th>213</th>\n",
       "      <td>Gild</td>\n",
       "      <td>gild.com</td>\n",
       "      <td>$25.9M</td>\n",
       "      <td>Disrupt SF 2010</td>\n",
       "      <td>Contestant</td>\n",
       "      <td>Acquired</td>\n",
       "      <td>25.9</td>\n",
       "    </tr>\n",
       "    <tr>\n",
       "      <th>215</th>\n",
       "      <td>Glide</td>\n",
       "      <td>glide.me</td>\n",
       "      <td>$36.5M</td>\n",
       "      <td>Disrupt NYC 2013</td>\n",
       "      <td>Audience choice</td>\n",
       "      <td>Operating</td>\n",
       "      <td>36.5</td>\n",
       "    </tr>\n",
       "    <tr>\n",
       "      <th>225</th>\n",
       "      <td>Grockit</td>\n",
       "      <td>grockit.com</td>\n",
       "      <td>$44.7M</td>\n",
       "      <td>TC50 2008</td>\n",
       "      <td>Finalist</td>\n",
       "      <td>Acquired</td>\n",
       "      <td>44.7</td>\n",
       "    </tr>\n",
       "    <tr>\n",
       "      <th>231</th>\n",
       "      <td>HackerRank</td>\n",
       "      <td>hackerrank.com</td>\n",
       "      <td>$24.2M</td>\n",
       "      <td>Disrupt SF 2012</td>\n",
       "      <td>Contestant</td>\n",
       "      <td>Operating</td>\n",
       "      <td>24.2</td>\n",
       "    </tr>\n",
       "    <tr>\n",
       "      <th>271</th>\n",
       "      <td>Ionic Security</td>\n",
       "      <td>ionicsecurity.com</td>\n",
       "      <td>$122.4M</td>\n",
       "      <td>Disrupt SF 2012</td>\n",
       "      <td>Contestant</td>\n",
       "      <td>Operating</td>\n",
       "      <td>122.4</td>\n",
       "    </tr>\n",
       "    <tr>\n",
       "      <th>276</th>\n",
       "      <td>IZEA</td>\n",
       "      <td>izea.com</td>\n",
       "      <td>$34.9M</td>\n",
       "      <td>Disrupt NYC 2010</td>\n",
       "      <td>Contestant</td>\n",
       "      <td>Ipo</td>\n",
       "      <td>34.9</td>\n",
       "    </tr>\n",
       "    <tr>\n",
       "      <th>279</th>\n",
       "      <td>Jiff</td>\n",
       "      <td>jiff.com</td>\n",
       "      <td>$67.8M</td>\n",
       "      <td>Disrupt SF 2011</td>\n",
       "      <td>Contestant</td>\n",
       "      <td>Acquired</td>\n",
       "      <td>67.8</td>\n",
       "    </tr>\n",
       "    <tr>\n",
       "      <th>282</th>\n",
       "      <td>Kaltura</td>\n",
       "      <td>kaltura.com</td>\n",
       "      <td>$166.1M</td>\n",
       "      <td>TC40 2007</td>\n",
       "      <td>Audience choice</td>\n",
       "      <td>Operating</td>\n",
       "      <td>166.1</td>\n",
       "    </tr>\n",
       "    <tr>\n",
       "      <th>302</th>\n",
       "      <td>Layer</td>\n",
       "      <td>layer.com</td>\n",
       "      <td>$42.1M</td>\n",
       "      <td>Disrupt SF 2013</td>\n",
       "      <td>Winner</td>\n",
       "      <td>Operating</td>\n",
       "      <td>42.1</td>\n",
       "    </tr>\n",
       "    <tr>\n",
       "      <th>305</th>\n",
       "      <td>LearnVest</td>\n",
       "      <td>learnvest.com</td>\n",
       "      <td>$69M</td>\n",
       "      <td>TC50 2009</td>\n",
       "      <td>Contestant</td>\n",
       "      <td>Acquired</td>\n",
       "      <td>69.0</td>\n",
       "    </tr>\n",
       "    <tr>\n",
       "      <th>313</th>\n",
       "      <td>LiveIntent</td>\n",
       "      <td>liveintent.com</td>\n",
       "      <td>$65.1M</td>\n",
       "      <td>Disrupt NYC 2010</td>\n",
       "      <td>Audience choice</td>\n",
       "      <td>Operating</td>\n",
       "      <td>65.1</td>\n",
       "    </tr>\n",
       "    <tr>\n",
       "      <th>325</th>\n",
       "      <td>Lystable</td>\n",
       "      <td>lystable.com</td>\n",
       "      <td>$25.1M</td>\n",
       "      <td>Disrupt London 2015</td>\n",
       "      <td>Finalist</td>\n",
       "      <td>Operating</td>\n",
       "      <td>25.1</td>\n",
       "    </tr>\n",
       "    <tr>\n",
       "      <th>346</th>\n",
       "      <td>Mint</td>\n",
       "      <td>mint.com</td>\n",
       "      <td>$31.8M</td>\n",
       "      <td>TC40 2007</td>\n",
       "      <td>Winner</td>\n",
       "      <td>Acquired</td>\n",
       "      <td>31.8</td>\n",
       "    </tr>\n",
       "    <tr>\n",
       "      <th>389</th>\n",
       "      <td>OrderWithMe</td>\n",
       "      <td>orderwithme.com</td>\n",
       "      <td>$37M</td>\n",
       "      <td>Disrupt Beijing 2011</td>\n",
       "      <td>Winner</td>\n",
       "      <td>Operating</td>\n",
       "      <td>37.0</td>\n",
       "    </tr>\n",
       "    <tr>\n",
       "      <th>393</th>\n",
       "      <td>Osmo</td>\n",
       "      <td>playosmo.com</td>\n",
       "      <td>$38.5M</td>\n",
       "      <td>Disrupt SF 2013</td>\n",
       "      <td>Contestant</td>\n",
       "      <td>Operating</td>\n",
       "      <td>38.5</td>\n",
       "    </tr>\n",
       "    <tr>\n",
       "      <th>394</th>\n",
       "      <td>Ossia</td>\n",
       "      <td>ossia.com</td>\n",
       "      <td>$25.5M</td>\n",
       "      <td>Disrupt SF 2013</td>\n",
       "      <td>Runner up</td>\n",
       "      <td>Operating</td>\n",
       "      <td>25.5</td>\n",
       "    </tr>\n",
       "    <tr>\n",
       "      <th>398</th>\n",
       "      <td>Owlet Baby Care</td>\n",
       "      <td>owletcare.com</td>\n",
       "      <td>$24M</td>\n",
       "      <td>Hardware Battlefield 2014</td>\n",
       "      <td>Runner up</td>\n",
       "      <td>Operating</td>\n",
       "      <td>24.0</td>\n",
       "    </tr>\n",
       "    <tr>\n",
       "      <th>427</th>\n",
       "      <td>Postmates</td>\n",
       "      <td>postmates.com</td>\n",
       "      <td>$278M</td>\n",
       "      <td>Disrupt SF 2011</td>\n",
       "      <td>Contestant</td>\n",
       "      <td>Operating</td>\n",
       "      <td>278.0</td>\n",
       "    </tr>\n",
       "    <tr>\n",
       "      <th>432</th>\n",
       "      <td>Prism Skylabs</td>\n",
       "      <td>prism.com</td>\n",
       "      <td>$24M</td>\n",
       "      <td>Disrupt SF 2011</td>\n",
       "      <td>Runner up</td>\n",
       "      <td>Operating</td>\n",
       "      <td>24.0</td>\n",
       "    </tr>\n",
       "    <tr>\n",
       "      <th>435</th>\n",
       "      <td>PubMatic</td>\n",
       "      <td>pubmatic.com</td>\n",
       "      <td>$63M</td>\n",
       "      <td>TC40 2007</td>\n",
       "      <td>Contestant</td>\n",
       "      <td>Operating</td>\n",
       "      <td>63.0</td>\n",
       "    </tr>\n",
       "    <tr>\n",
       "      <th>460</th>\n",
       "      <td>Roadie</td>\n",
       "      <td>roadie.com</td>\n",
       "      <td>$25M</td>\n",
       "      <td>Disrupt NYC 2014</td>\n",
       "      <td>Audience choice</td>\n",
       "      <td>Operating</td>\n",
       "      <td>25.0</td>\n",
       "    </tr>\n",
       "    <tr>\n",
       "      <th>471</th>\n",
       "      <td>SeatGeek</td>\n",
       "      <td>seatgeek.com</td>\n",
       "      <td>$160M</td>\n",
       "      <td>TC50 2009</td>\n",
       "      <td>Contestant</td>\n",
       "      <td>Operating</td>\n",
       "      <td>160.0</td>\n",
       "    </tr>\n",
       "    <tr>\n",
       "      <th>546</th>\n",
       "      <td>StyleSeat</td>\n",
       "      <td>styleseat.com</td>\n",
       "      <td>$40M</td>\n",
       "      <td>Disrupt NYC 2011</td>\n",
       "      <td>Contestant</td>\n",
       "      <td>Operating</td>\n",
       "      <td>40.0</td>\n",
       "    </tr>\n",
       "    <tr>\n",
       "      <th>555</th>\n",
       "      <td>Symphony Commerce</td>\n",
       "      <td>symphonycommerce.com</td>\n",
       "      <td>$47.4M</td>\n",
       "      <td>Disrupt NYC 2011</td>\n",
       "      <td>Contestant</td>\n",
       "      <td>Operating</td>\n",
       "      <td>47.4</td>\n",
       "    </tr>\n",
       "    <tr>\n",
       "      <th>560</th>\n",
       "      <td>Talkdesk</td>\n",
       "      <td>talkdesk.com</td>\n",
       "      <td>$24.5M</td>\n",
       "      <td>Disrupt NYC 2012</td>\n",
       "      <td>Contestant</td>\n",
       "      <td>Operating</td>\n",
       "      <td>24.5</td>\n",
       "    </tr>\n",
       "    <tr>\n",
       "      <th>581</th>\n",
       "      <td>TouchPal</td>\n",
       "      <td>touchpal.com</td>\n",
       "      <td>$25M</td>\n",
       "      <td>Disrupt Beijing 2011</td>\n",
       "      <td>Finalist</td>\n",
       "      <td>Operating</td>\n",
       "      <td>25.0</td>\n",
       "    </tr>\n",
       "    <tr>\n",
       "      <th>593</th>\n",
       "      <td>TrueCar</td>\n",
       "      <td>truecar.com</td>\n",
       "      <td>$332.4M</td>\n",
       "      <td>TC50 2008</td>\n",
       "      <td>Contestant</td>\n",
       "      <td>Ipo</td>\n",
       "      <td>332.4</td>\n",
       "    </tr>\n",
       "    <tr>\n",
       "      <th>598</th>\n",
       "      <td>UberConference</td>\n",
       "      <td>uberconference.com</td>\n",
       "      <td>$35M</td>\n",
       "      <td>Disrupt NYC 2012</td>\n",
       "      <td>Winner</td>\n",
       "      <td>Operating</td>\n",
       "      <td>35.0</td>\n",
       "    </tr>\n",
       "    <tr>\n",
       "      <th>606</th>\n",
       "      <td>Upwork</td>\n",
       "      <td>upwork.com</td>\n",
       "      <td>$168.8M</td>\n",
       "      <td>TC50 2009</td>\n",
       "      <td>Audience choice</td>\n",
       "      <td>Operating</td>\n",
       "      <td>168.8</td>\n",
       "    </tr>\n",
       "    <tr>\n",
       "      <th>615</th>\n",
       "      <td>VideoSurf</td>\n",
       "      <td>videosurf.com</td>\n",
       "      <td>$28M</td>\n",
       "      <td>TC50 2008</td>\n",
       "      <td>Contestant</td>\n",
       "      <td>Acquired</td>\n",
       "      <td>28.0</td>\n",
       "    </tr>\n",
       "    <tr>\n",
       "      <th>625</th>\n",
       "      <td>Voxy</td>\n",
       "      <td>voxy.com</td>\n",
       "      <td>$30.8M</td>\n",
       "      <td>Disrupt SF 2010</td>\n",
       "      <td>Contestant</td>\n",
       "      <td>Operating</td>\n",
       "      <td>30.8</td>\n",
       "    </tr>\n",
       "    <tr>\n",
       "      <th>643</th>\n",
       "      <td>Xobni</td>\n",
       "      <td>yahoo.com</td>\n",
       "      <td>$41.8M</td>\n",
       "      <td>TC40 2007</td>\n",
       "      <td>Contestant</td>\n",
       "      <td>Acquired</td>\n",
       "      <td>41.8</td>\n",
       "    </tr>\n",
       "    <tr>\n",
       "      <th>644</th>\n",
       "      <td>Yammer</td>\n",
       "      <td>yammer.com</td>\n",
       "      <td>$142M</td>\n",
       "      <td>TC50 2008</td>\n",
       "      <td>Winner</td>\n",
       "      <td>Acquired</td>\n",
       "      <td>142.0</td>\n",
       "    </tr>\n",
       "    <tr>\n",
       "      <th>647</th>\n",
       "      <td>Yext</td>\n",
       "      <td>yext.com</td>\n",
       "      <td>$117.8M</td>\n",
       "      <td>TC50 2009</td>\n",
       "      <td>Contestant</td>\n",
       "      <td>Ipo</td>\n",
       "      <td>117.8</td>\n",
       "    </tr>\n",
       "    <tr>\n",
       "      <th>649</th>\n",
       "      <td>YouNow</td>\n",
       "      <td>younow.com</td>\n",
       "      <td>$26M</td>\n",
       "      <td>Disrupt SF 2011</td>\n",
       "      <td>Contestant</td>\n",
       "      <td>Operating</td>\n",
       "      <td>26.0</td>\n",
       "    </tr>\n",
       "    <tr>\n",
       "      <th>650</th>\n",
       "      <td>YourMechanic</td>\n",
       "      <td>yourmechanic.com</td>\n",
       "      <td>$28M</td>\n",
       "      <td>Disrupt SF 2012</td>\n",
       "      <td>Winner</td>\n",
       "      <td>Operating</td>\n",
       "      <td>28.0</td>\n",
       "    </tr>\n",
       "    <tr>\n",
       "      <th>654</th>\n",
       "      <td>ZEFR</td>\n",
       "      <td>zefr.com</td>\n",
       "      <td>$62.1M</td>\n",
       "      <td>Disrupt NYC 2010</td>\n",
       "      <td>Contestant</td>\n",
       "      <td>Operating</td>\n",
       "      <td>62.1</td>\n",
       "    </tr>\n",
       "    <tr>\n",
       "      <th>656</th>\n",
       "      <td>Zenefits</td>\n",
       "      <td>zenefits.com</td>\n",
       "      <td>$583.6M</td>\n",
       "      <td>Disrupt NYC 2013</td>\n",
       "      <td>Finalist</td>\n",
       "      <td>Operating</td>\n",
       "      <td>583.6</td>\n",
       "    </tr>\n",
       "    <tr>\n",
       "      <th>659</th>\n",
       "      <td>Zocdoc</td>\n",
       "      <td>zocdoc.com</td>\n",
       "      <td>$223M</td>\n",
       "      <td>TC40 2007</td>\n",
       "      <td>Contestant</td>\n",
       "      <td>Operating</td>\n",
       "      <td>223.0</td>\n",
       "    </tr>\n",
       "    <tr>\n",
       "      <th>661</th>\n",
       "      <td>Zumper</td>\n",
       "      <td>zumper.com</td>\n",
       "      <td>$31.5M</td>\n",
       "      <td>Disrupt SF 2012</td>\n",
       "      <td>Finalist</td>\n",
       "      <td>Operating</td>\n",
       "      <td>31.5</td>\n",
       "    </tr>\n",
       "  </tbody>\n",
       "</table>\n",
       "</div>"
      ],
      "text/plain": [
       "               Startup               Product  Funding  \\\n",
       "6         8 Securities       8securities.com     $29M   \n",
       "31             Anyclip           anyclip.com     $24M   \n",
       "40               Artsy             artsy.net   $50.9M   \n",
       "49          Badgeville        badgeville.com     $40M   \n",
       "56          Betterment        betterment.com    $205M   \n",
       "108          Clickable         clickable.com   $32.5M   \n",
       "113         Cloudflare        cloudflare.com  $182.1M   \n",
       "128      Credit Sesame      creditsesame.com   $35.4M   \n",
       "130   CrowdFlower Inc.       crowdflower.com     $38M   \n",
       "132      Cubic Telecom      cubictelecom.com   $37.1M   \n",
       "138           DataSift          datasift.com     $72M   \n",
       "139             DataXu            dataxu.com     $64M   \n",
       "154            Dropbox           dropbox.com    $1.7B   \n",
       "166             Enigma             enigma.io   $34.6M   \n",
       "172       EverythingMe         everything.me   $35.5M   \n",
       "179            Famo.us               famo.us   $30.1M   \n",
       "180            Farmigo           farmigo.com     $26M   \n",
       "188             Fitbit            fitbit.com     $66M   \n",
       "191              Flock             flock.com   $28.3M   \n",
       "209          Getaround         getaround.com    $103M   \n",
       "213               Gild              gild.com   $25.9M   \n",
       "215              Glide              glide.me   $36.5M   \n",
       "225            Grockit           grockit.com   $44.7M   \n",
       "231         HackerRank        hackerrank.com   $24.2M   \n",
       "271     Ionic Security     ionicsecurity.com  $122.4M   \n",
       "276               IZEA              izea.com   $34.9M   \n",
       "279               Jiff              jiff.com   $67.8M   \n",
       "282            Kaltura           kaltura.com  $166.1M   \n",
       "302              Layer             layer.com   $42.1M   \n",
       "305          LearnVest         learnvest.com     $69M   \n",
       "313         LiveIntent        liveintent.com   $65.1M   \n",
       "325           Lystable          lystable.com   $25.1M   \n",
       "346               Mint              mint.com   $31.8M   \n",
       "389        OrderWithMe       orderwithme.com     $37M   \n",
       "393               Osmo          playosmo.com   $38.5M   \n",
       "394              Ossia             ossia.com   $25.5M   \n",
       "398    Owlet Baby Care         owletcare.com     $24M   \n",
       "427          Postmates         postmates.com    $278M   \n",
       "432      Prism Skylabs             prism.com     $24M   \n",
       "435           PubMatic          pubmatic.com     $63M   \n",
       "460             Roadie            roadie.com     $25M   \n",
       "471           SeatGeek          seatgeek.com    $160M   \n",
       "546          StyleSeat         styleseat.com     $40M   \n",
       "555  Symphony Commerce  symphonycommerce.com   $47.4M   \n",
       "560           Talkdesk          talkdesk.com   $24.5M   \n",
       "581           TouchPal          touchpal.com     $25M   \n",
       "593            TrueCar           truecar.com  $332.4M   \n",
       "598     UberConference    uberconference.com     $35M   \n",
       "606             Upwork            upwork.com  $168.8M   \n",
       "615          VideoSurf         videosurf.com     $28M   \n",
       "625               Voxy              voxy.com   $30.8M   \n",
       "643              Xobni             yahoo.com   $41.8M   \n",
       "644             Yammer            yammer.com    $142M   \n",
       "647               Yext              yext.com  $117.8M   \n",
       "649             YouNow            younow.com     $26M   \n",
       "650       YourMechanic      yourmechanic.com     $28M   \n",
       "654               ZEFR              zefr.com   $62.1M   \n",
       "656           Zenefits          zenefits.com  $583.6M   \n",
       "659             Zocdoc            zocdoc.com    $223M   \n",
       "661             Zumper            zumper.com   $31.5M   \n",
       "\n",
       "                         Event           Result OperatingState  \\\n",
       "6         Disrupt Beijing 2011         Finalist      Operating   \n",
       "31                   TC50 2009         Finalist      Operating   \n",
       "40            Disrupt NYC 2010       Contestant      Operating   \n",
       "49             Disrupt SF 2010         Finalist       Acquired   \n",
       "56            Disrupt NYC 2010         Finalist      Operating   \n",
       "108                  TC40 2007         Finalist       Acquired   \n",
       "113            Disrupt SF 2010        Runner up      Operating   \n",
       "128            Disrupt SF 2010       Contestant      Operating   \n",
       "130                  TC50 2009       Contestant      Operating   \n",
       "132                  TC40 2007       Contestant      Operating   \n",
       "138            Disrupt SF 2010         Finalist      Operating   \n",
       "139                  TC50 2009       Contestant      Operating   \n",
       "154                  TC50 2008       Contestant      Operating   \n",
       "166           Disrupt NYC 2013           Winner      Operating   \n",
       "172           Disrupt NYC 2011       Contestant         Closed   \n",
       "179            Disrupt SF 2012       Contestant      Operating   \n",
       "180            Disrupt SF 2011         Finalist      Operating   \n",
       "188                  TC50 2008         Finalist            Ipo   \n",
       "191                  TC40 2007       Contestant       Acquired   \n",
       "209           Disrupt NYC 2011           Winner      Operating   \n",
       "213            Disrupt SF 2010       Contestant       Acquired   \n",
       "215           Disrupt NYC 2013  Audience choice      Operating   \n",
       "225                  TC50 2008         Finalist       Acquired   \n",
       "231            Disrupt SF 2012       Contestant      Operating   \n",
       "271            Disrupt SF 2012       Contestant      Operating   \n",
       "276           Disrupt NYC 2010       Contestant            Ipo   \n",
       "279            Disrupt SF 2011       Contestant       Acquired   \n",
       "282                  TC40 2007  Audience choice      Operating   \n",
       "302            Disrupt SF 2013           Winner      Operating   \n",
       "305                  TC50 2009       Contestant       Acquired   \n",
       "313           Disrupt NYC 2010  Audience choice      Operating   \n",
       "325        Disrupt London 2015         Finalist      Operating   \n",
       "346                  TC40 2007           Winner       Acquired   \n",
       "389       Disrupt Beijing 2011           Winner      Operating   \n",
       "393            Disrupt SF 2013       Contestant      Operating   \n",
       "394            Disrupt SF 2013        Runner up      Operating   \n",
       "398  Hardware Battlefield 2014        Runner up      Operating   \n",
       "427            Disrupt SF 2011       Contestant      Operating   \n",
       "432            Disrupt SF 2011        Runner up      Operating   \n",
       "435                  TC40 2007       Contestant      Operating   \n",
       "460           Disrupt NYC 2014  Audience choice      Operating   \n",
       "471                  TC50 2009       Contestant      Operating   \n",
       "546           Disrupt NYC 2011       Contestant      Operating   \n",
       "555           Disrupt NYC 2011       Contestant      Operating   \n",
       "560           Disrupt NYC 2012       Contestant      Operating   \n",
       "581       Disrupt Beijing 2011         Finalist      Operating   \n",
       "593                  TC50 2008       Contestant            Ipo   \n",
       "598           Disrupt NYC 2012           Winner      Operating   \n",
       "606                  TC50 2009  Audience choice      Operating   \n",
       "615                  TC50 2008       Contestant       Acquired   \n",
       "625            Disrupt SF 2010       Contestant      Operating   \n",
       "643                  TC40 2007       Contestant       Acquired   \n",
       "644                  TC50 2008           Winner       Acquired   \n",
       "647                  TC50 2009       Contestant            Ipo   \n",
       "649            Disrupt SF 2011       Contestant      Operating   \n",
       "650            Disrupt SF 2012           Winner      Operating   \n",
       "654           Disrupt NYC 2010       Contestant      Operating   \n",
       "656           Disrupt NYC 2013         Finalist      Operating   \n",
       "659                  TC40 2007       Contestant      Operating   \n",
       "661            Disrupt SF 2012         Finalist      Operating   \n",
       "\n",
       "     Funds_in_million  \n",
       "6                29.0  \n",
       "31               24.0  \n",
       "40               50.9  \n",
       "49               40.0  \n",
       "56              205.0  \n",
       "108              32.5  \n",
       "113             182.1  \n",
       "128              35.4  \n",
       "130              38.0  \n",
       "132              37.1  \n",
       "138              72.0  \n",
       "139              64.0  \n",
       "154            1700.0  \n",
       "166              34.6  \n",
       "172              35.5  \n",
       "179              30.1  \n",
       "180              26.0  \n",
       "188              66.0  \n",
       "191              28.3  \n",
       "209             103.0  \n",
       "213              25.9  \n",
       "215              36.5  \n",
       "225              44.7  \n",
       "231              24.2  \n",
       "271             122.4  \n",
       "276              34.9  \n",
       "279              67.8  \n",
       "282             166.1  \n",
       "302              42.1  \n",
       "305              69.0  \n",
       "313              65.1  \n",
       "325              25.1  \n",
       "346              31.8  \n",
       "389              37.0  \n",
       "393              38.5  \n",
       "394              25.5  \n",
       "398              24.0  \n",
       "427             278.0  \n",
       "432              24.0  \n",
       "435              63.0  \n",
       "460              25.0  \n",
       "471             160.0  \n",
       "546              40.0  \n",
       "555              47.4  \n",
       "560              24.5  \n",
       "581              25.0  \n",
       "593             332.4  \n",
       "598              35.0  \n",
       "606             168.8  \n",
       "615              28.0  \n",
       "625              30.8  \n",
       "643              41.8  \n",
       "644             142.0  \n",
       "647             117.8  \n",
       "649              26.0  \n",
       "650              28.0  \n",
       "654              62.1  \n",
       "656             583.6  \n",
       "659             223.0  \n",
       "661              31.5  "
      ]
     },
     "execution_count": 235,
     "metadata": {},
     "output_type": "execute_result"
    }
   ],
   "source": [
    "print(f'Number of outliers = {len(df1[df1.Funds_in_million > upper_fence])}')\n",
    "\n",
    "df1[df1.Funds_in_million > upper_fence]"
   ]
  },
  {
   "cell_type": "markdown",
   "metadata": {},
   "source": [
    "- The above 60 records are of companies that have been funded excessively in comparision to the others in the pool\n",
    "- Let's see the distribution without these outliers"
   ]
  },
  {
   "cell_type": "code",
   "execution_count": 236,
   "metadata": {},
   "outputs": [],
   "source": [
    "df1.drop(df1[df1.Funds_in_million > upper_fence].index, inplace = True)"
   ]
  },
  {
   "cell_type": "code",
   "execution_count": 237,
   "metadata": {},
   "outputs": [
    {
     "data": {
      "image/png": "[encoded data removed]",
      "text/plain": [
       "<Figure size 432x288 with 1 Axes>"
      ]
     },
     "metadata": {
      "needs_background": "light"
     },
     "output_type": "display_data"
    }
   ],
   "source": [
    "plot = plt.boxplot(df1.Funds_in_million)\n",
    "plt.title('Boxplot of funds without the original outliers')\n",
    "plt.ylabel(\"Funding (in Million)\")\n",
    "plt.show()"
   ]
  },
  {
   "cell_type": "code",
   "execution_count": 238,
   "metadata": {},
   "outputs": [
    {
     "data": {
      "text/plain": [
       "Operating    275\n",
       "Closed        56\n",
       "Acquired      55\n",
       "Name: OperatingState, dtype: int64"
      ]
     },
     "execution_count": 238,
     "metadata": {},
     "output_type": "execute_result"
    }
   ],
   "source": [
    "df1.OperatingState.value_counts()"
   ]
  },
  {
   "cell_type": "markdown",
   "metadata": {},
   "source": [
    "- Our companies of interest for task 1 are 275 companies that are opetaring and 57 that got closed"
   ]
  },
  {
   "cell_type": "code",
   "execution_count": 239,
   "metadata": {},
   "outputs": [
    {
     "name": "stderr",
     "output_type": "stream",
     "text": [
      "C:\\Users\\enaysep\\Anaconda3\\lib\\site-packages\\seaborn\\distributions.py:2551: FutureWarning: `distplot` is a deprecated function and will be removed in a future version. Please adapt your code to use either `displot` (a figure-level function with similar flexibility) or `histplot` (an axes-level function for histograms).\n",
      "  warnings.warn(msg, FutureWarning)\n"
     ]
    },
    {
     "data": {
      "image/png": "[encoded data removed]",
      "text/plain": [
       "<Figure size 432x288 with 1 Axes>"
      ]
     },
     "metadata": {
      "needs_background": "light"
     },
     "output_type": "display_data"
    }
   ],
   "source": [
    "import seaborn as sns\n",
    "\n",
    "sns.distplot(df1.Funds_in_million)\n",
    "plt.title('Distribution of funding across all companies')\n",
    "plt.show()"
   ]
  },
  {
   "cell_type": "code",
   "execution_count": 240,
   "metadata": {},
   "outputs": [
    {
     "data": {
      "text/plain": [
       "count    386.00000\n",
       "mean       3.72514\n",
       "std        4.73236\n",
       "min        0.00500\n",
       "25%        0.60000\n",
       "50%        1.70000\n",
       "75%        5.00000\n",
       "max       22.00000\n",
       "Name: Funds_in_million, dtype: float64"
      ]
     },
     "execution_count": 240,
     "metadata": {},
     "output_type": "execute_result"
    }
   ],
   "source": [
    "df1.Funds_in_million.describe()"
   ]
  },
  {
   "cell_type": "markdown",
   "metadata": {},
   "source": [
    "- 75% of the companies have less than 5 million raised funds, the max however is 22\n",
    "- Even after removing the outliers, the data is pretty heavily skewed"
   ]
  },
  {
   "cell_type": "code",
   "execution_count": 241,
   "metadata": {},
   "outputs": [
    {
     "name": "stderr",
     "output_type": "stream",
     "text": [
      "C:\\Users\\enaysep\\Anaconda3\\lib\\site-packages\\seaborn\\distributions.py:2551: FutureWarning: `distplot` is a deprecated function and will be removed in a future version. Please adapt your code to use either `displot` (a figure-level function with similar flexibility) or `histplot` (an axes-level function for histograms).\n",
      "  warnings.warn(msg, FutureWarning)\n",
      "C:\\Users\\enaysep\\Anaconda3\\lib\\site-packages\\seaborn\\distributions.py:2551: FutureWarning: `distplot` is a deprecated function and will be removed in a future version. Please adapt your code to use either `displot` (a figure-level function with similar flexibility) or `histplot` (an axes-level function for histograms).\n",
      "  warnings.warn(msg, FutureWarning)\n"
     ]
    },
    {
     "data": {
      "image/png": "[encoded data removed]",
      "text/plain": [
       "<Figure size 1080x360 with 2 Axes>"
      ]
     },
     "metadata": {
      "needs_background": "light"
     },
     "output_type": "display_data"
    }
   ],
   "source": [
    "fig, ax = plt.subplots(1, 2)\n",
    "\n",
    "fig.set_figheight(5)\n",
    "fig.set_figwidth(15)\n",
    "\n",
    "sns.distplot(df1.loc[df1.OperatingState == 'Operating', 'Funds_in_million'], ax = ax[0])\n",
    "sns.distplot(df1.loc[df1.OperatingState =='Closed', 'Funds_in_million'], ax = ax[1])\n",
    "\n",
    "ax[0].set_title('Funds raised by the companies still operating')\n",
    "ax[1].set_title('Funds raised by companies that got closed')\n",
    "plt.show()"
   ]
  },
  {
   "cell_type": "markdown",
   "metadata": {},
   "source": [
    "**4. Statistical analysis:**\n",
    "\n",
    "- Visually the distributions are quiet similar\n",
    "- To prove if there is a significant difference or not we will have to perform a hypothesis test\n",
    "- Since we want to compare the difference in means of the samples, we can either use 2 sample t test or z-test\n",
    "- For this exercise we shall do both and compare the results\n",
    "- One thing to notice is that the distributions are not normal yet, since our sample size is reasonably big ( >30 samples), we will go ahead with the aforementioned tests\n",
    "\n",
    "For the first test, \n",
    "\n",
    "**Null hypothesis (Ho)** : There is no difference between the two means\n",
    "\n",
    "**Alternate hypothesis (Ha)** : There is significant difference between the two means"
   ]
  },
  {
   "cell_type": "code",
   "execution_count": 242,
   "metadata": {},
   "outputs": [
    {
     "name": "stdout",
     "output_type": "stream",
     "text": [
      "\t Since the p-value, 0.192 > 0.05 (alpha) the difference is not significant and,\n",
      "    \t we fail to reject the Null hypothesis\n"
     ]
    }
   ],
   "source": [
    "from statsmodels.stats.weightstats import ztest\n",
    "\n",
    "sample1 = df1.loc[df1.OperatingState == 'Operating', 'Funds_in_million']\n",
    "sample2 = df1.loc[df1.OperatingState =='Closed', 'Funds_in_million']\n",
    "\n",
    "alpha = 0.05   # Let's consider a significance level of 5%\n",
    "\n",
    "test_statistic, p_value = ztest(sample1, sample2)\n",
    "\n",
    "if p_value <= alpha:\n",
    "    print(f'Since the p-value, {round(p_value, 3)} < {alpha} (alpha) the difference is significant and we reject the Null hypothesis')\n",
    "else:\n",
    "    print(f'''\\t Since the p-value, {round(p_value,3)} > {alpha} (alpha) the difference is not significant and,\n",
    "    \\t we fail to reject the Null hypothesis''')\n",
    "    "
   ]
  },
  {
   "cell_type": "markdown",
   "metadata": {},
   "source": [
    "- From the tests above we found no evidence to state that the companies that have raised more money tend to suceed more or vice-versa"
   ]
  },
  {
   "cell_type": "code",
   "execution_count": 244,
   "metadata": {},
   "outputs": [
    {
     "data": {
      "text/html": [
       "<div>\n",
       "<style scoped>\n",
       "    .dataframe tbody tr th:only-of-type {\n",
       "        vertical-align: middle;\n",
       "    }\n",
       "\n",
       "    .dataframe tbody tr th {\n",
       "        vertical-align: top;\n",
       "    }\n",
       "\n",
       "    .dataframe thead th {\n",
       "        text-align: right;\n",
       "    }\n",
       "</style>\n",
       "<table border=\"1\" class=\"dataframe\">\n",
       "  <thead>\n",
       "    <tr style=\"text-align: right;\">\n",
       "      <th></th>\n",
       "      <th>Startup</th>\n",
       "      <th>Product</th>\n",
       "      <th>Funding</th>\n",
       "      <th>Event</th>\n",
       "      <th>Result</th>\n",
       "      <th>OperatingState</th>\n",
       "    </tr>\n",
       "  </thead>\n",
       "  <tbody>\n",
       "    <tr>\n",
       "      <th>0</th>\n",
       "      <td>2600Hz</td>\n",
       "      <td>2600hz.com</td>\n",
       "      <td>NaN</td>\n",
       "      <td>Disrupt SF 2013</td>\n",
       "      <td>Contestant</td>\n",
       "      <td>Operating</td>\n",
       "    </tr>\n",
       "    <tr>\n",
       "      <th>1</th>\n",
       "      <td>3DLT</td>\n",
       "      <td>3dlt.com</td>\n",
       "      <td>$630K</td>\n",
       "      <td>Disrupt NYC 2013</td>\n",
       "      <td>Contestant</td>\n",
       "      <td>Closed</td>\n",
       "    </tr>\n",
       "    <tr>\n",
       "      <th>2</th>\n",
       "      <td>3DPrinterOS</td>\n",
       "      <td>3dprinteros.com</td>\n",
       "      <td>NaN</td>\n",
       "      <td>Disrupt SF 2016</td>\n",
       "      <td>Contestant</td>\n",
       "      <td>Operating</td>\n",
       "    </tr>\n",
       "    <tr>\n",
       "      <th>3</th>\n",
       "      <td>3Dprintler</td>\n",
       "      <td>3dprintler.com</td>\n",
       "      <td>$1M</td>\n",
       "      <td>Disrupt NY 2016</td>\n",
       "      <td>Audience choice</td>\n",
       "      <td>Operating</td>\n",
       "    </tr>\n",
       "    <tr>\n",
       "      <th>4</th>\n",
       "      <td>42 Technologies</td>\n",
       "      <td>42technologies.com</td>\n",
       "      <td>NaN</td>\n",
       "      <td>Disrupt NYC 2013</td>\n",
       "      <td>Contestant</td>\n",
       "      <td>Operating</td>\n",
       "    </tr>\n",
       "  </tbody>\n",
       "</table>\n",
       "</div>"
      ],
      "text/plain": [
       "           Startup             Product Funding             Event  \\\n",
       "0           2600Hz          2600hz.com     NaN   Disrupt SF 2013   \n",
       "1             3DLT            3dlt.com   $630K  Disrupt NYC 2013   \n",
       "2      3DPrinterOS     3dprinteros.com     NaN   Disrupt SF 2016   \n",
       "3       3Dprintler      3dprintler.com     $1M   Disrupt NY 2016   \n",
       "4  42 Technologies  42technologies.com     NaN  Disrupt NYC 2013   \n",
       "\n",
       "            Result OperatingState  \n",
       "0       Contestant      Operating  \n",
       "1       Contestant         Closed  \n",
       "2       Contestant      Operating  \n",
       "3  Audience choice      Operating  \n",
       "4       Contestant      Operating  "
      ]
     },
     "execution_count": 244,
     "metadata": {},
     "output_type": "execute_result"
    }
   ],
   "source": [
    "#Make a copy of the original data frame.\n",
    "\n",
    "df2 = data.copy(deep = True)\n",
    "df2.head()"
   ]
  },
  {
   "cell_type": "code",
   "execution_count": 245,
   "metadata": {},
   "outputs": [
    {
     "data": {
      "text/plain": [
       "Contestant         488\n",
       "Finalist            84\n",
       "Audience choice     41\n",
       "Winner              26\n",
       "Runner up           23\n",
       "Name: Result, dtype: int64"
      ]
     },
     "execution_count": 245,
     "metadata": {},
     "output_type": "execute_result"
    }
   ],
   "source": [
    "df2.Result.value_counts()"
   ]
  },
  {
   "cell_type": "markdown",
   "metadata": {},
   "source": [
    "- There are 488 who remained contestants and the rest came out as something more, we'll call all of them winners for now"
   ]
  },
  {
   "cell_type": "code",
   "execution_count": 246,
   "metadata": {},
   "outputs": [],
   "source": [
    "winners = df2.Result.value_counts()[1:].sum()\n",
    "contestants = df2.Result.value_counts()['Contestant']"
   ]
  },
  {
   "cell_type": "code",
   "execution_count": 248,
   "metadata": {},
   "outputs": [],
   "source": [
    "contestants_operating = df2.OperatingState[df2.Result == 'Contestant'].value_counts().loc['Operating']\n",
    "winners_operating = df2.OperatingState[df2.Result != 'Contestant'].value_counts().loc['Operating']"
   ]
  },
  {
   "cell_type": "code",
   "execution_count": 249,
   "metadata": {},
   "outputs": [
    {
     "data": {
      "text/plain": [
       "(0.764367816091954, 0.680327868852459)"
      ]
     },
     "execution_count": 249,
     "metadata": {},
     "output_type": "execute_result"
    }
   ],
   "source": [
    "winners_operating/winners, contestants_operating/contestants"
   ]
  },
  {
   "cell_type": "markdown",
   "metadata": {},
   "source": [
    "- There is some difference between the proportion operational companies in the two categories, but let's see if the differnce is significant\n",
    "- There are two ways we can check if the difference is significant\n",
    "    - Z-test for proportions\n",
    "    - Chi-square test\n",
    "- We shall perform z-test in this case, however, do experiment with Chi-square test and observe if the p-value from both tests gives the same conclusion or not\n",
    "\n",
    "**Null hyputhesis (Ho)**: The proportion of companies that are operating is the same in both categories - winners and contestants\n",
    "\n",
    "**Alternative hypothesis (Ha)**: The proportion of companies that are operating is significantly different from each other, among the two categories"
   ]
  },
  {
   "cell_type": "code",
   "execution_count": 250,
   "metadata": {},
   "outputs": [
    {
     "name": "stdout",
     "output_type": "stream",
     "text": [
      "Since the p-value, 0.037 < 0.05 (alpha) the difference is significant and we reject the Null hypothesis\n"
     ]
    }
   ],
   "source": [
    "from statsmodels.stats.proportion import proportions_ztest\n",
    "\n",
    "test_statistic, p_value = proportions_ztest([contestants_operating, winners_operating], [contestants, winners])\n",
    "\n",
    "if p_value <= alpha:\n",
    "    print(f'Since the p-value, {round(p_value, 3)} < {alpha} (alpha) the difference is significant and we reject the Null hypothesis')\n",
    "else:\n",
    "    print(f'''\\t Since the p-value, {round(p_value,3)} > {alpha} (alpha) the difference is not significant and,\n",
    "    \\t we fail to reject the Null hypothesis''')"
   ]
  },
  {
   "cell_type": "markdown",
   "metadata": {},
   "source": [
    "# Conclusion:\n",
    "- The amount of funds a company raises is not a significant factor in deciding if the company will remain operational or close down\n",
    "- Winners in the tech-crunch battle have proven to remain operational more so, than the companies that came out only as contestants"
   ]
  },
  {
   "cell_type": "markdown",
   "metadata": {},
   "source": [
    "### • Check distribution of the Event variable."
   ]
  },
  {
   "cell_type": "code",
   "execution_count": 251,
   "metadata": {},
   "outputs": [
    {
     "data": {
      "text/plain": [
       "Disrupt NY 2015         21\n",
       "Disrupt SF 2011         19\n",
       "Disrupt NYC 2013        19\n",
       "Disrupt SF 2013         19\n",
       "Disrupt SF 2014         19\n",
       "Disrupt NYC 2012        19\n",
       "Disrupt SF 2015         19\n",
       "Disrupt SF 2016         17\n",
       "Disrupt NY 2016         16\n",
       "Disrupt SF 2012         15\n",
       "Disrupt NYC 2011        15\n",
       "Disrupt NYC 2014        15\n",
       "Disrupt SF 2010         13\n",
       "Disrupt London 2015     11\n",
       "Disrupt NYC 2010        10\n",
       "Disrupt EU 2014         10\n",
       "Disrupt London 2016     10\n",
       "Disrupt EU 2013          9\n",
       "Disrupt Beijing 2011     4\n",
       "Name: Event, dtype: int64"
      ]
     },
     "execution_count": 251,
     "metadata": {},
     "output_type": "execute_result"
    }
   ],
   "source": [
    "df1[df1.Event.apply(lambda x: 'Disrupt' in x)].Event.value_counts()"
   ]
  },
  {
   "cell_type": "markdown",
   "metadata": {},
   "source": [
    "- We have considered only the \"Company Disrupt\" events\n",
    "- Since we have the data for the EU only from 2013, we'll drop the records pertaining to events earlier than 2013"
   ]
  },
  {
   "cell_type": "code",
   "execution_count": 253,
   "metadata": {},
   "outputs": [
    {
     "data": {
      "text/plain": [
       "1         Disrupt NYC 2013\n",
       "3          Disrupt NY 2016\n",
       "13         Disrupt SF 2015\n",
       "14     Disrupt London 2016\n",
       "16         Disrupt SF 2015\n",
       "              ...         \n",
       "635        Disrupt NY 2015\n",
       "641       Disrupt NYC 2013\n",
       "642        Disrupt SF 2014\n",
       "646    Disrupt London 2015\n",
       "660        Disrupt SF 2013\n",
       "Name: Event, Length: 185, dtype: object"
      ]
     },
     "execution_count": 253,
     "metadata": {},
     "output_type": "execute_result"
    }
   ],
   "source": [
    "events = df1[df1.Event.apply(lambda x: 'Disrupt' in x and int(x[-4:]) > 2012)].Event  # all the events of relevance\n",
    "events"
   ]
  },
  {
   "cell_type": "code",
   "execution_count": 254,
   "metadata": {},
   "outputs": [
    {
     "name": "stdout",
     "output_type": "stream",
     "text": [
      "71 74 40\n"
     ]
    }
   ],
   "source": [
    "NY_events = df1.loc[events[events.apply(lambda x: 'NY' in x)].index, 'Funds_in_million']\n",
    "SF_events = df1.loc[events[events.apply(lambda x: 'SF' in x)].index, 'Funds_in_million']\n",
    "EU_events = df1.loc[events[events.apply(lambda x: 'EU' in x or 'London' in x)].index, 'Funds_in_million']\n",
    "print(len(NY_events), len(SF_events), len(EU_events))"
   ]
  },
  {
   "cell_type": "markdown",
   "metadata": {},
   "source": [
    "- Each of the three above variables hold the amount of funds with respect to the Cities where the event was organised\n",
    "- The sample sizes are different across the three categories and it is okay to perform ANOVA on samples of different sizes\n",
    "\n",
    "\n",
    "**Null Hypothesis(Ho)**: Average funds raised by companies across three cities are the same \n",
    "\n",
    "**Alternative Hypothesis(Ha)**: Average funds raised by companies across three cities are the different"
   ]
  },
  {
   "cell_type": "code",
   "execution_count": 255,
   "metadata": {},
   "outputs": [
    {
     "name": "stderr",
     "output_type": "stream",
     "text": [
      "C:\\Users\\enaysep\\Anaconda3\\lib\\site-packages\\seaborn\\distributions.py:2551: FutureWarning: `distplot` is a deprecated function and will be removed in a future version. Please adapt your code to use either `displot` (a figure-level function with similar flexibility) or `histplot` (an axes-level function for histograms).\n",
      "  warnings.warn(msg, FutureWarning)\n",
      "C:\\Users\\enaysep\\Anaconda3\\lib\\site-packages\\seaborn\\distributions.py:2551: FutureWarning: `distplot` is a deprecated function and will be removed in a future version. Please adapt your code to use either `displot` (a figure-level function with similar flexibility) or `histplot` (an axes-level function for histograms).\n",
      "  warnings.warn(msg, FutureWarning)\n",
      "C:\\Users\\enaysep\\Anaconda3\\lib\\site-packages\\seaborn\\distributions.py:2551: FutureWarning: `distplot` is a deprecated function and will be removed in a future version. Please adapt your code to use either `displot` (a figure-level function with similar flexibility) or `histplot` (an axes-level function for histograms).\n",
      "  warnings.warn(msg, FutureWarning)\n"
     ]
    },
    {
     "data": {
      "image/png": "[encoded data removed]",
      "text/plain": [
       "<Figure size 1080x432 with 1 Axes>"
      ]
     },
     "metadata": {
      "needs_background": "light"
     },
     "output_type": "display_data"
    }
   ],
   "source": [
    "plt.figure(figsize=(15,6))\n",
    "sns.distplot(NY_events, color = 'Red', label = 'NY')\n",
    "sns.distplot(SF_events, color = 'Gold', label = 'SF')\n",
    "sns.distplot(EU_events, color = 'blue', label = 'EU')\n",
    "plt.legend()\n",
    "plt.show()"
   ]
  },
  {
   "cell_type": "markdown",
   "metadata": {},
   "source": [
    "- Visually the distributions look quiet similar\n",
    "- The Modes of the three distributions are quiet the same\n",
    "- Dispersion in NY quiet high compared to the others\n",
    "- Let's see what the test says"
   ]
  },
  {
   "cell_type": "code",
   "execution_count": 256,
   "metadata": {},
   "outputs": [
    {
     "name": "stdout",
     "output_type": "stream",
     "text": [
      "\t Since the p-value, 0.628 > 0.05 (alpha) the difference is not significant and,\n",
      "    \t we fail to reject the Null hypothesis\n"
     ]
    }
   ],
   "source": [
    "from scipy.stats import f_oneway\n",
    "\n",
    "\n",
    "stat, p_value = f_oneway(NY_events, SF_events, EU_events)\n",
    "\n",
    "if p_value <= alpha:\n",
    "    print(f'Since the p-value, {round(p_value, 3)} < {alpha} (alpha) the difference is significant and we reject the Null hypothesis')\n",
    "else:\n",
    "    print(f'''\\t Since the p-value, {round(p_value,3)} > {alpha} (alpha) the difference is not significant and,\n",
    "    \\t we fail to reject the Null hypothesis''')"
   ]
  },
  {
   "cell_type": "markdown",
   "metadata": {},
   "source": [
    "- The distribution of funds raised by the companies across the three regions is the same\n",
    "- We found no evidence to say companies participating in certain regions have funds either significantly on the higher side or on the lower side"
   ]
  },
  {
   "cell_type": "markdown",
   "metadata": {},
   "source": [
    "# !!!Thank you!!!"
   ]
  }
 ],
 "metadata": {
  "kernelspec": {
   "display_name": "Python 3",
   "language": "python",
   "name": "python3"
  },
  "language_info": {
   "codemirror_mode": {
    "name": "ipython",
    "version": 3
   },
   "file_extension": ".py",
   "mimetype": "text/x-python",
   "name": "python",
   "nbconvert_exporter": "python",
   "pygments_lexer": "ipython3",
   "version": "3.8.5"
  }
 },
 "nbformat": 4,
 "nbformat_minor": 4
}
